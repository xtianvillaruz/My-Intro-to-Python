{
 "cells": [
  {
   "cell_type": "markdown",
   "metadata": {},
   "source": [
    "# Introduction to Python for Data Science \n",
    "\n",
    "These exercises are taken from my free online course at edX.org offered by DataCamp.\n",
    "\n",
    "My goal is to re-write the code and practice it again and also serves as my study notes and references."
   ]
  },
  {
   "cell_type": "markdown",
   "metadata": {},
   "source": [
    "## A. Hello Python"
   ]
  },
  {
   "cell_type": "markdown",
   "metadata": {},
   "source": [
    "#### Exercise 1\n",
    "\n",
    "> Python as calculator"
   ]
  },
  {
   "cell_type": "code",
   "execution_count": 4,
   "metadata": {
    "collapsed": false
   },
   "outputs": [
    {
     "name": "stdout",
     "output_type": "stream",
     "text": [
      "10\n",
      "0\n",
      "12\n",
      "2.0\n",
      "25\n",
      "2\n"
     ]
    }
   ],
   "source": [
    "# Addition and subtraction\n",
    "print(5+5)\n",
    "print(1-1)\n",
    "\n",
    "# Multiplication and division\n",
    "print(3*4)\n",
    "print(12/6)\n",
    "\n",
    "# Exponentiation\n",
    "print(5**2)\n",
    "\n",
    "# Modulo\n",
    "print(9%7)"
   ]
  },
  {
   "cell_type": "markdown",
   "metadata": {},
   "source": [
    "#### Exercise 2\n",
    "\n",
    "Suppose you have USD 100, which you can invest with a 10 percent return each year. After one year, it's 100x1.1= 110, and after two years it's 100x1.1x1.1 = 121. Calculate how much money you end up with after 7 years."
   ]
  },
  {
   "cell_type": "code",
   "execution_count": 5,
   "metadata": {
    "collapsed": false
   },
   "outputs": [
    {
     "name": "stdout",
     "output_type": "stream",
     "text": [
      "194.87171000000012\n"
     ]
    }
   ],
   "source": [
    "print(100*(1.1)**7)"
   ]
  },
  {
   "cell_type": "markdown",
   "metadata": {},
   "source": [
    "## B. Variable and Types"
   ]
  },
  {
   "cell_type": "markdown",
   "metadata": {},
   "source": [
    "\n",
    "### 1. Variable Assignment\n",
    "\n",
    "In Python, a variable allows you to refer to a value with a name. To create a variable use =, like this example:\n",
    "x = 5\n",
    "You can now use the name of this variable, x, instead of the actual value, 5."
   ]
  },
  {
   "cell_type": "markdown",
   "metadata": {},
   "source": [
    "#### Exercise 1\n",
    ">Create a variable savings with the value 100.\n",
    "Check out this variable by typing print(savings) in the script."
   ]
  },
  {
   "cell_type": "code",
   "execution_count": 7,
   "metadata": {
    "collapsed": false
   },
   "outputs": [
    {
     "name": "stdout",
     "output_type": "stream",
     "text": [
      "100\n"
     ]
    }
   ],
   "source": [
    "savings = 100\n",
    "print(savings)"
   ]
  },
  {
   "cell_type": "markdown",
   "metadata": {},
   "source": [
    "### 2. Calculations with variables\n",
    "\n",
    "Remember how you calculated the money you ended up with after 7 years of investing $100? You did something like this:\n",
    "\n",
    ">100 * 1.10 ** 7\n",
    "\n",
    "Instead of calculating with the actual values, you can use variables instead. The savings variable you've created in the previous exercise represents the $100 you started with. It's up to you to create a new variable to represent 1.10 and then redo the calculations!\n"
   ]
  },
  {
   "cell_type": "markdown",
   "metadata": {},
   "source": [
    "#### Exercise 2\n",
    ">Create a variable factor, equal to 1.10.\n",
    "Use savings and factor to calculate the amount of money you end up with after 7 years. Store the result in a new variable, result.\n",
    "Print out the value of result."
   ]
  },
  {
   "cell_type": "code",
   "execution_count": 8,
   "metadata": {
    "collapsed": false
   },
   "outputs": [
    {
     "name": "stdout",
     "output_type": "stream",
     "text": [
      "194.87171000000012\n"
     ]
    }
   ],
   "source": [
    "factor = 1.10\n",
    "\n",
    "result = savings*factor**7\n",
    "\n",
    "print(result)"
   ]
  },
  {
   "cell_type": "markdown",
   "metadata": {},
   "source": [
    "### 3. Other variable types\n",
    "\n",
    "In the previous exercise, you worked with two Python data types:\n",
    "\n",
    ">$int,(integer):$ a number without a fractional part. savings, with the value 100, is an example of an integer.\n",
    "\n",
    ">$float,(floating point):$ a number that has both an integer and fractional part, separated by a point. factor, with the value 1.10, is an example of a float.\n",
    "\n",
    "Next to numerical data types, there are two other very common data types:\n",
    "\n",
    ">$str,(string):$ a type to represent text. You can use single or double quotes to build a string.\n",
    "\n",
    ">$bool,(boolean):$ a type to represent logical values. Can only be True or False.\n",
    "\n",
    "To find out the type of a value or a variable that refers to that value, you can use the $type()$ function. \n",
    "\n",
    "The different types behave differently in Python. When you sum two strings, for example, you'll get different behavior than when you sum two integers or two booleans. In the script some variables with different types have already been created. It's up to you to use them."
   ]
  },
  {
   "cell_type": "markdown",
   "metadata": {},
   "source": [
    "#### Exercise 3\n",
    ">Create a new string, desc, with the value \"compound interest\".\n",
    "Create a new boolean, profitable, with the value True."
   ]
  },
  {
   "cell_type": "code",
   "execution_count": 9,
   "metadata": {
    "collapsed": true
   },
   "outputs": [],
   "source": [
    "desc = 'compound interest'\n",
    "\n",
    "profitable = True"
   ]
  },
  {
   "cell_type": "code",
   "execution_count": 13,
   "metadata": {
    "collapsed": false
   },
   "outputs": [
    {
     "data": {
      "text/plain": [
       "str"
      ]
     },
     "execution_count": 13,
     "metadata": {},
     "output_type": "execute_result"
    }
   ],
   "source": [
    "type(desc)"
   ]
  },
  {
   "cell_type": "code",
   "execution_count": 14,
   "metadata": {
    "collapsed": false
   },
   "outputs": [
    {
     "data": {
      "text/plain": [
       "bool"
      ]
     },
     "execution_count": 14,
     "metadata": {},
     "output_type": "execute_result"
    }
   ],
   "source": [
    "type(profitable)"
   ]
  },
  {
   "cell_type": "markdown",
   "metadata": {},
   "source": [
    "#### Exercise 4\n",
    ">Calculate the product of savings and factor. Store the result in year1.\n",
    "\n",
    ">What do you think the resulting type will be? Find out by printing out the type of year1.\n",
    "\n",
    ">Calculate the sum of desc and desc and store the result in a new variable doubledesc.\n",
    "\n",
    ">Print out doubledesc. Did you expect this?"
   ]
  },
  {
   "cell_type": "code",
   "execution_count": 19,
   "metadata": {
    "collapsed": false
   },
   "outputs": [
    {
     "name": "stdout",
     "output_type": "stream",
     "text": [
      "<class 'float'>\n",
      "compound interestcompound interest\n"
     ]
    }
   ],
   "source": [
    "year1 = savings*factor**1\n",
    "print(type(year1))\n",
    "\n",
    "doubledesc = desc + desc\n",
    "print(doubledesc)"
   ]
  },
  {
   "cell_type": "markdown",
   "metadata": {},
   "source": [
    "### 4. Type conversion\n",
    "\n",
    "#### Exercise 5\n",
    "\n",
    "Using the + operator to paste together two strings can be very useful in building custom messages.\n",
    "\n",
    "Suppose for example that you've calculated the return of your investment, and want to summarize the results in a string. Assuming the floats savings and result are defined, you can try something like this:\n",
    "\n",
    "> print(\"I started with USD\" + savings + \" and now have USD\" + result + \". Awesome!\")\n",
    "\n",
    "This will not work, though, as you cannot simply sum strings and floats.\n",
    "\n",
    "To fix the error, you'll need to explicitly convert the types of your variables. More specifically, you'll need str(), to convert a value into a string. str(savings), for example, will convert the float savings to a string.\n",
    "\n",
    "Similar functions such as int(), float() and bool() will help you convert Python values into any type.\n",
    "\n",
    ">Fix the code on the right such that the printout runs without errors; use the function str() to convert the variables to strings.\n",
    "\n",
    ">Convert the variable pi_string to a float and store this float as a new variable, pi_float.\n"
   ]
  },
  {
   "cell_type": "code",
   "execution_count": 24,
   "metadata": {
    "collapsed": false
   },
   "outputs": [
    {
     "name": "stdout",
     "output_type": "stream",
     "text": [
      "I started with $100 and now have $194.87171000000012. Awesome!\n",
      "3.1415926\n",
      "<class 'str'>\n",
      "<class 'float'>\n"
     ]
    }
   ],
   "source": [
    "savings = 100\n",
    "result = 100*1.10**7\n",
    "\n",
    "print(\"I started with $\" +str(savings) + \" and now have $\" + str(result) + \". Awesome!\")\n",
    "\n",
    "pi_string = \"3.1415926\"\n",
    "\n",
    "pi_float = float(pi_string)\n",
    "\n",
    "print(pi_float)\n",
    "print(type(pi_string))\n",
    "print(type(pi_float))"
   ]
  },
  {
   "cell_type": "markdown",
   "metadata": {},
   "source": [
    "# C. List"
   ]
  },
  {
   "cell_type": "markdown",
   "metadata": {
    "collapsed": true
   },
   "source": [
    "### 1. Create a list\n",
    "\n",
    "As opposed to int, bool etc, a list is a compound data type: you can group values together:\n",
    "\n",
    ">a = \"is\"\n",
    "\n",
    ">b = \"nice\"\n",
    "\n",
    ">my_list = [\"my\", \"list\", a, b]\n",
    "\n",
    "After measuring the height of your family, you decide to collect some information on the house you're living in. The areas of the different parts of your house are stored in separate variables for now, as shown in the script."
   ]
  },
  {
   "cell_type": "markdown",
   "metadata": {},
   "source": [
    "####  Exercise 1\n",
    "\n",
    ">Create a list, areas, that contains the area of the hallway (hall), kitchen (kit), living room (liv), bedroom (bed) and bathroom (bath), in this order. Use the predefined variables.\n",
    "\n",
    ">Print areas with the print() function.\n"
   ]
  },
  {
   "cell_type": "code",
   "execution_count": 27,
   "metadata": {
    "collapsed": false
   },
   "outputs": [
    {
     "name": "stdout",
     "output_type": "stream",
     "text": [
      "[11.25, 18.0, 20.0, 10.75, 9.5]\n"
     ]
    }
   ],
   "source": [
    "# area variable in square meters\n",
    "hall = 11.25\n",
    "kit = 18.0\n",
    "liv = 20.0\n",
    "bed = 10.75\n",
    "bath = 9.50\n",
    "\n",
    "areas = [hall, kit, liv, bed, bath]\n",
    "\n",
    "print(areas)"
   ]
  },
  {
   "cell_type": "markdown",
   "metadata": {},
   "source": [
    "### 2. Create list with different types\n",
    "\n",
    "A list can contain any Python type. Although it's not really common, a list can also contain a mix of Python types including strings, floats, booleans, etc.\n",
    "\n",
    "The printout of the previous exercise wasn't really satisfying. It's just a list of numbers representing the areas, but you can't tell which area corresponds to which part of your house.\n",
    "\n",
    "The code on the right is the start of a solution. For some of the areas, the name of the corresponding room is already placed in front. Pay attention here! \"bathroom\" is a string, while bath is a variable that represents the float 9.50 you specified earlier."
   ]
  },
  {
   "cell_type": "markdown",
   "metadata": {},
   "source": [
    "#### Exercise 2\n",
    ">Finish the line of code that creates the areas list such that the list first contains the name of each room as a string, and then its area. More specifically, add the strings \"hallway\", \"kitchen\" and \"bedroom\" at the appropriate locations.\n",
    "Print areas again; is the printout more informative this time?"
   ]
  },
  {
   "cell_type": "code",
   "execution_count": 28,
   "metadata": {
    "collapsed": false
   },
   "outputs": [
    {
     "name": "stdout",
     "output_type": "stream",
     "text": [
      "['hallway', 11.25, 'kitchen', 18.0, 'living room', 20.0, 'bedroom', 10.75, 'bathroom', 9.5]\n"
     ]
    }
   ],
   "source": [
    "areas = ['hallway',hall,'kitchen',kit,'living room',liv,'bedroom',bed,'bathroom',bath]\n",
    "print(areas)"
   ]
  },
  {
   "cell_type": "markdown",
   "metadata": {},
   "source": [
    "### 3. List of lists\n",
    "\n",
    "As a data scientist, you'll often be dealing with a lot of data, and it will make sense to group some of this data.\n",
    "\n",
    "Instead of creating a flat list containing strings and floats, representing the names and areas of the rooms in your house, you can create a list of lists. The script on the right can already give you an idea.\n",
    "\n",
    "Don't get confused here: \"hallway\" is a string, while hall is a variable that represents the float 11.25 you specified earlier."
   ]
  },
  {
   "cell_type": "markdown",
   "metadata": {},
   "source": [
    "#### Exercise 3\n",
    ">Finish the list of lists so that it also contains the bedroom and bathroom data. Make sure you enter these in order!\n",
    "Print out house; does this way of structuring your data make more sense?\n",
    "Print out the type of house. Are you still dealing with a list?"
   ]
  },
  {
   "cell_type": "code",
   "execution_count": 29,
   "metadata": {
    "collapsed": false
   },
   "outputs": [
    {
     "name": "stdout",
     "output_type": "stream",
     "text": [
      "[['hallway', 11.25], ['kitchen', 18.0], ['living room', 20.0], ['bedroom', 10.75], ['bathroom', 9.5]]\n",
      "<class 'list'>\n"
     ]
    }
   ],
   "source": [
    "house =[['hallway',hall],['kitchen',kit],['living room',liv],['bedroom',bed],['bathroom',bath]]\n",
    "print(house)\n",
    "print(type(house))"
   ]
  },
  {
   "cell_type": "markdown",
   "metadata": {},
   "source": [
    "## D. Subsetting Lits"
   ]
  },
  {
   "cell_type": "markdown",
   "metadata": {},
   "source": [
    "### 1. Subset and conquer\n",
    "\n",
    "Subsetting Python lists is a piece of cake. Take the code sample below, which creates a list x and then selects \"b\" from it. Remember that this is the second element, so it has index 1. You can also use negative indexing.\n",
    "\n",
    ">x = list[\"a\", \"b\", \"c\", \"d\"]\n",
    "\n",
    ">x[1]\n",
    "\n",
    ">x[-3] # same result!\n"
   ]
  },
  {
   "cell_type": "markdown",
   "metadata": {},
   "source": [
    "#### Exercise 1\n",
    "\n",
    ">Print out the second element from the areas list, so 11.25.\n",
    "\n",
    ">Subset and print out the last element of areas, being 9.50. Using a negative index makes sense here!\n",
    "\n",
    ">Select the number representing the area of the living room and print it out."
   ]
  },
  {
   "cell_type": "code",
   "execution_count": 30,
   "metadata": {
    "collapsed": false
   },
   "outputs": [
    {
     "name": "stdout",
     "output_type": "stream",
     "text": [
      "11.25\n",
      "9.5\n",
      "20.0\n"
     ]
    }
   ],
   "source": [
    "areas = [\"hallway\", 11.25, \"kitchen\", 18.0, \"living room\", 20.0, \"bedroom\", 10.75, \"bathroom\", 9.50]\n",
    "\n",
    "print(areas[1])\n",
    "print(areas[-1])\n",
    "print(areas[5])"
   ]
  },
  {
   "cell_type": "markdown",
   "metadata": {},
   "source": [
    "### 2. Subset and calculate\n",
    "\n",
    "After you've extracted values from a list, you can use them to perform additional calculations. Take this example, where the second and fourth element of a list x are extracted. The strings that result are pasted together using the + operator:\n",
    "\n",
    ">x = [\"a\", \"b\", \"c\", \"d\"]\n",
    "\n",
    ">print(x[1] + x[3])"
   ]
  },
  {
   "cell_type": "markdown",
   "metadata": {},
   "source": [
    "#### Exercise 2\n",
    "\n",
    ">Using a combination of list subsetting and variable assignment, create a new variable, eat_sleep_area, that contains the sum of the area of the kitchen and the area of the bedroom.\n",
    "Print this new variable eat_sleep_area."
   ]
  },
  {
   "cell_type": "code",
   "execution_count": 31,
   "metadata": {
    "collapsed": false
   },
   "outputs": [
    {
     "name": "stdout",
     "output_type": "stream",
     "text": [
      "28.75\n"
     ]
    }
   ],
   "source": [
    "eat_sleep_area = (areas[3]+areas[7])\n",
    "print(eat_sleep_area)"
   ]
  },
  {
   "cell_type": "markdown",
   "metadata": {},
   "source": [
    "### 3. Slicing and dicing\n",
    "\n",
    "Selecting single values from a list is just one part of the story. It's also possible to slice your list, which means selecting multiple elements from your list. Use the following syntax:\n",
    "\n",
    ">my_list[start:end]\n",
    "\n",
    "The start index will be included, while the end index is not.\n",
    "\n",
    "The code sample below shows an example. A list with \"b\" and \"c\", corresponding to indexes 1 and 2, are selected from a list x:\n",
    "\n",
    ">x = [\"a\", \"b\", \"c\", \"d\"]\n",
    "\n",
    ">x[1:3]\n",
    "\n",
    "The elements with index 1 and 2 are included, while the element with index 3 is not."
   ]
  },
  {
   "cell_type": "markdown",
   "metadata": {},
   "source": [
    "#### Exercise 3\n",
    "\n",
    "Use slicing to create a list, downstairs, that contains the first 6 elements of areas.\n",
    "Do a similar thing to create a new variable, upstairs, that contains the last 4 elements of areas.\n",
    "Print both downstairs and upstairs using print().\n"
   ]
  },
  {
   "cell_type": "code",
   "execution_count": 40,
   "metadata": {
    "collapsed": false
   },
   "outputs": [
    {
     "name": "stdout",
     "output_type": "stream",
     "text": [
      "['hallway', 11.25, 'kitchen', 18.0, 'living room', 20.0]\n",
      "['bedroom', 10.75, 'bathroom', 9.5]\n"
     ]
    }
   ],
   "source": [
    "downstairs = areas[0:6]\n",
    "upstairs = areas[6:10]\n",
    "\n",
    "print(downstairs)\n",
    "print(upstairs)"
   ]
  },
  {
   "cell_type": "markdown",
   "metadata": {},
   "source": [
    "### 4. Slicing and dicing (2)\n",
    "\n",
    "It's also possible not to specify these indexes. If you don't specify the begin index, Python figures out that you want to start your slice at the beginning of your list. If you don't specify the end index, the slice will go all the way to the last element of your list. To experiment with this, try the following commands in the IPython Shell:\n",
    "\n",
    ">my_list[begin:end]\n",
    "\n",
    ">x = [\"a\", \"b\", \"c\", \"d\"]\n",
    "\n",
    ">x[:2]\n",
    "\n",
    ">x[2:]\n",
    "\n",
    ">x[:]"
   ]
  },
  {
   "cell_type": "markdown",
   "metadata": {},
   "source": [
    "#### Exercise 4\n",
    "\n",
    "Use slicing to create the lists downstairs and upstairs again, but this time without using indexes if it's not necessary. Remember downstairs is the first 6 elements of areas and upstairs is the last 4 elements of areas."
   ]
  },
  {
   "cell_type": "code",
   "execution_count": 42,
   "metadata": {
    "collapsed": false
   },
   "outputs": [
    {
     "name": "stdout",
     "output_type": "stream",
     "text": [
      "['hallway', 11.25, 'kitchen', 18.0, 'living room', 20.0]\n",
      "['bedroom', 10.75, 'bathroom', 9.5]\n"
     ]
    }
   ],
   "source": [
    "downstairs = areas[:6]\n",
    "upstairs = areas[-4:]\n",
    "\n",
    "print(downstairs)\n",
    "print(upstairs)"
   ]
  },
  {
   "cell_type": "markdown",
   "metadata": {},
   "source": [
    "## E. List Manipulation"
   ]
  },
  {
   "cell_type": "markdown",
   "metadata": {},
   "source": [
    "### 1. Replace list elements\n",
    "\n",
    "Replacing list elements is pretty easy. Simply subset the list and assign new values to the subset. You can select single elements or you can change entire list slices at once."
   ]
  },
  {
   "cell_type": "markdown",
   "metadata": {},
   "source": [
    "#### Exercise 1\n",
    ">You did a miscalculation when determining the area of the bathroom; it's 10.50 square meters instead of 9.50. Can you make the changes?\n",
    "Make the areas list more trendy! Change \"living room\" to \"chill zone\"."
   ]
  },
  {
   "cell_type": "code",
   "execution_count": 44,
   "metadata": {
    "collapsed": false
   },
   "outputs": [
    {
     "name": "stdout",
     "output_type": "stream",
     "text": [
      "['hallway', 11.25, 'kitchen', 18.0, 'living room', 20.0, 'bedroom', 10.75, 'bathroom', 9.5]\n"
     ]
    }
   ],
   "source": [
    "print(areas)"
   ]
  },
  {
   "cell_type": "code",
   "execution_count": 46,
   "metadata": {
    "collapsed": false
   },
   "outputs": [
    {
     "name": "stdout",
     "output_type": "stream",
     "text": [
      "['hallway', 11.25, 'kitchen', 18.0, 'chill zone', 20.0, 'bedroom', 10.75, 'bathroom', 10.5]\n"
     ]
    }
   ],
   "source": [
    "#Correct the bathroom area and change living to chill zone\n",
    "areas[9] = 10.50\n",
    "\n",
    "areas[4] = 'chill zone'\n",
    "\n",
    "print(areas)"
   ]
  },
  {
   "cell_type": "markdown",
   "metadata": {},
   "source": [
    "### 2. Extend a list\n",
    "\n",
    "If you can change elements in a list, you sure want to be able to add elements to it, right? You can use the + operator:\n",
    "\n",
    ">x = [\"a\", \"b\", \"c\", \"d\"]\n",
    "\n",
    ">y = x + [\"e\", \"f\"]\n",
    "\n",
    "You just won the lottery, awesome! You decide to build a poolhouse and a garage. Can you add the information to the areas list?"
   ]
  },
  {
   "cell_type": "markdown",
   "metadata": {},
   "source": [
    "#### Exercise 2\n",
    ">Use the + operator to paste the list [\"poolhouse\", 24.5] to the end of the areas list. Store the resulting list as areas_1.\n",
    "Further extend areas_1 by adding data on your garage. Add the string \"garage\" and float 15.45. Name the resulting list areas_2."
   ]
  },
  {
   "cell_type": "code",
   "execution_count": 47,
   "metadata": {
    "collapsed": false
   },
   "outputs": [
    {
     "name": "stdout",
     "output_type": "stream",
     "text": [
      "['hallway', 11.25, 'kitchen', 18.0, 'chill zone', 20.0, 'bedroom', 10.75, 'bathroom', 10.5, 'poolhouse', 24.5, 'garage', 15.45]\n"
     ]
    }
   ],
   "source": [
    "areas_1 = areas + ['poolhouse', 24.5]\n",
    "areas_2 =areas_1 + ['garage', 15.45]\n",
    "\n",
    "print(areas_2)"
   ]
  },
  {
   "cell_type": "markdown",
   "metadata": {},
   "source": [
    "### 3. Delete list elements\n",
    "\n",
    "Finally, you can also remove elements from your list. You can do this with the del statement:\n",
    "\n",
    ">x = [\"a\", \"b\", \"c\", \"d\"]\n",
    "\n",
    ">del(x[1])\n",
    "\n",
    "Pay attention here: as soon as you remove an element from a list, the indexes of the elements that come after the deleted element all change!\n",
    "\n",
    "The ; sign is used to place commands on the same line. The following two code chunks are equivalent:\n",
    "\n",
    ">Same line\n",
    "\n",
    "        - command1; command2\n",
    "\n",
    ">Separate lines\n",
    "        \n",
    "        - command1\n",
    "    \n",
    "        - command2\n",
    "\n",
    "The updated and extended version of areas that you've built in the previous exercises is coded below. \n",
    "\n",
    ">areas = [\"hallway\", 11.25, \"kitchen\", 18.0,\"chill zone\", 20.0, \"bedroom\", 10.75,\"bathroom\", 10.50, \"poolhouse\", 24.5,\"garage\", 15.45]"
   ]
  },
  {
   "cell_type": "markdown",
   "metadata": {},
   "source": [
    "#### Exercise 3\n",
    "\n",
    ">There was a mistake! The amount you won with the lottery is not that big after all and it looks like the poolhouse isn't going to happen. You decide to remove the corresponding string and float from the areas list."
   ]
  },
  {
   "cell_type": "code",
   "execution_count": 49,
   "metadata": {
    "collapsed": false
   },
   "outputs": [
    {
     "name": "stdout",
     "output_type": "stream",
     "text": [
      "['hallway', 11.25, 'kitchen', 18.0, 'chill zone', 20.0, 'bedroom', 10.75, 'bathroom', 10.5, 'garage', 15.45]\n"
     ]
    }
   ],
   "source": [
    "areas = [\"hallway\", 11.25, \"kitchen\", 18.0,\"chill zone\", 20.0, \"bedroom\", 10.75,\"bathroom\", 10.50, \"poolhouse\", 24.5,\"garage\", 15.45]\n",
    "\n",
    "del(areas[-4:-2])\n",
    "\n",
    "print(areas)"
   ]
  },
  {
   "cell_type": "markdown",
   "metadata": {},
   "source": [
    "### 4. Inner workings of lists\n",
    "\n",
    "In this exercise you'll get some hands-on experience with this. The Python code in the script already creates a list with the name areas and a copy named areas_copy. Next, the first element in the areas_copy list is changed and the areas list is printed out. If you hit Submit Answer you'll see that, although you've changed areas_copy, the change also takes effect in the areas list. That's because areas and areas_copy point to the same list.\n",
    "\n",
    "If you want to prevent changes in areas_copy to also take effect in areas, you'll have to do a more explicit copy of the areas list. You can do this with list() or by using [:]."
   ]
  },
  {
   "cell_type": "markdown",
   "metadata": {},
   "source": [
    "#### Exercise 4\n",
    ">Change the second command, that creates the variable areas_copy, such that areas_copy is an explicit copy of areas\n",
    "Now, changes made to areas_copy shouldn't affect areas. Hit Submit Answer to check this."
   ]
  },
  {
   "cell_type": "code",
   "execution_count": 52,
   "metadata": {
    "collapsed": false
   },
   "outputs": [
    {
     "name": "stdout",
     "output_type": "stream",
     "text": [
      "[11.25, 18.0, 20.0, 10.75, 9.5]\n",
      "[5.0, 18.0, 20.0, 10.75, 9.5]\n",
      "[5.0, 18.0, 20.0, 10.75, 9.5]\n"
     ]
    }
   ],
   "source": [
    "areas = [11.25, 18.0, 20.0, 10.75, 9.50]\n",
    "print(areas)\n",
    "\n",
    "areas_copy = areas\n",
    "\n",
    "areas_copy[0] = 5.0\n",
    "print(areas_copy)\n",
    "print(areas)"
   ]
  },
  {
   "cell_type": "markdown",
   "metadata": {},
   "source": [
    "## F. Functions"
   ]
  },
  {
   "cell_type": "markdown",
   "metadata": {},
   "source": [
    "### 1. Familiar functions\n",
    "\n",
    "Out of the box, Python offers a bunch of built-in functions to make your life as a data scientist easier. You already know two such functions: print() and type(). You've also used the functions str(), int(), bool() and float() to switch between data type. These are built-in functions as well.\n",
    "\n",
    "Calling a function is easy. To get the type of 3.0 and store the output as a new variable, result, you can use the following:\n",
    "\n",
    ">result = type(3.0)\n",
    "\n",
    "The general recipe for calling functions is thus:\n",
    "\n",
    ">output = function_name(input)\n"
   ]
  },
  {
   "cell_type": "markdown",
   "metadata": {},
   "source": [
    "#### Exercise 1\n",
    "\n",
    ">Use print() in combination with type() to print out the type of var1.\n",
    "Use len() to get the length of the list var1. Wrap it in a print() call to directly print it out.\n",
    "Use int() to convert var2 to an integer. Store the output as out2."
   ]
  },
  {
   "cell_type": "code",
   "execution_count": 55,
   "metadata": {
    "collapsed": false
   },
   "outputs": [
    {
     "name": "stdout",
     "output_type": "stream",
     "text": [
      "<class 'list'>\n",
      "4\n",
      "1\n"
     ]
    }
   ],
   "source": [
    "# Create variable var1 and var2\n",
    "var1 = [1,2,3,4]\n",
    "var2 = True\n",
    "\n",
    "print (type(var1))\n",
    "print(len(var1))\n",
    "\n",
    "out2 = int(var2)\n",
    "print(out2)"
   ]
  },
  {
   "cell_type": "markdown",
   "metadata": {},
   "source": [
    "### 2. Help!\n",
    "\n",
    "Maybe you already know the name of a Python function, but you still have to figure out how to use it. Ironically, you have to ask for information about a function with another function: help(). In IPython specifically, you can also use ? before the function name.\n",
    "\n",
    "To get help on the max() function, for example, you can use one of these calls:\n",
    "\n",
    ">help(max)\n",
    "\n",
    ">?max\n",
    "\n",
    "Use the Shell on the right to open up the documentation on complex(). "
   ]
  },
  {
   "cell_type": "code",
   "execution_count": 57,
   "metadata": {
    "collapsed": false
   },
   "outputs": [
    {
     "name": "stdout",
     "output_type": "stream",
     "text": [
      "\n",
      "Welcome to Python 3.6's help utility!\n",
      "\n",
      "If this is your first time using Python, you should definitely check out\n",
      "the tutorial on the Internet at http://docs.python.org/3.6/tutorial/.\n",
      "\n",
      "Enter the name of any module, keyword, or topic to get help on writing\n",
      "Python programs and using Python modules.  To quit this help utility and\n",
      "return to the interpreter, just type \"quit\".\n",
      "\n",
      "To get a list of available modules, keywords, symbols, or topics, type\n",
      "\"modules\", \"keywords\", \"symbols\", or \"topics\".  Each module also comes\n",
      "with a one-line summary of what it does; to list the modules whose name\n",
      "or summary contain a given string such as \"spam\", type \"modules spam\".\n",
      "\n",
      "help> \n",
      "\n",
      "You are now leaving help and returning to the Python interpreter.\n",
      "If you want to ask for help on a particular object directly from the\n",
      "interpreter, you can type \"help(object)\".  Executing \"help('string')\"\n",
      "has the same effect as typing a particular string at the help> prompt.\n"
     ]
    }
   ],
   "source": [
    "help()"
   ]
  },
  {
   "cell_type": "code",
   "execution_count": 58,
   "metadata": {
    "collapsed": false
   },
   "outputs": [
    {
     "data": {
      "text/plain": [
       "0j"
      ]
     },
     "execution_count": 58,
     "metadata": {},
     "output_type": "execute_result"
    }
   ],
   "source": [
    "complex()"
   ]
  },
  {
   "cell_type": "code",
   "execution_count": 59,
   "metadata": {
    "collapsed": false
   },
   "outputs": [
    {
     "name": "stdout",
     "output_type": "stream",
     "text": [
      "Help on built-in function max in module builtins:\n",
      "\n",
      "max(...)\n",
      "    max(iterable, *[, default=obj, key=func]) -> value\n",
      "    max(arg1, arg2, *args, *[, key=func]) -> value\n",
      "    \n",
      "    With a single iterable argument, return its biggest item. The\n",
      "    default keyword-only argument specifies an object to return if\n",
      "    the provided iterable is empty.\n",
      "    With two or more arguments, return the largest argument.\n",
      "\n"
     ]
    }
   ],
   "source": [
    "help(max)"
   ]
  },
  {
   "cell_type": "code",
   "execution_count": 63,
   "metadata": {
    "collapsed": false
   },
   "outputs": [
    {
     "name": "stdout",
     "output_type": "stream",
     "text": [
      "Help on built-in function print in module builtins:\n",
      "\n",
      "print(...)\n",
      "    print(value, ..., sep=' ', end='\\n', file=sys.stdout, flush=False)\n",
      "    \n",
      "    Prints the values to a stream, or to sys.stdout by default.\n",
      "    Optional keyword arguments:\n",
      "    file:  a file-like object (stream); defaults to the current sys.stdout.\n",
      "    sep:   string inserted between values, default a space.\n",
      "    end:   string appended after the last value, default a newline.\n",
      "    flush: whether to forcibly flush the stream.\n",
      "\n"
     ]
    }
   ],
   "source": [
    "help(print)"
   ]
  },
  {
   "cell_type": "markdown",
   "metadata": {},
   "source": [
    "### 3. Multiple arguments\n",
    "\n",
    "In the previous exercise, the square brackets around imag in the documentation showed us that the imag argument is optional. But Python also uses a different way to tell users about arguments being optional."
   ]
  },
  {
   "cell_type": "markdown",
   "metadata": {},
   "source": [
    "#### Exercise 2\n",
    "\n",
    ">Have a look at the documentation of sorted() by typing help(sorted) in the IPython Shell.\n",
    "\n",
    ">You'll see that sorted() takes three arguments: iterable, key and reverse.\n",
    "\n",
    ">key=None means that if you don't specify the key argument, it will be None. reverse=False means that if you don't specify the reverse argument, it will be False.\n",
    "\n",
    ">In this exercise, you'll only have to specify iterable and reverse, not key. The first input you pass to sorted() will obviously be matched to the iterable argument, but what about the second input? To tell Python you want to specify reverse without changing anything about key, you can use =:\n",
    "\n",
    ">>sorted(___, reverse = ___)\n",
    "\n",
    ">Two lists have been created for you on the right. Can you paste them together and sort them in descending order?"
   ]
  },
  {
   "cell_type": "code",
   "execution_count": 64,
   "metadata": {
    "collapsed": false
   },
   "outputs": [
    {
     "name": "stdout",
     "output_type": "stream",
     "text": [
      "Help on built-in function sorted in module builtins:\n",
      "\n",
      "sorted(iterable, /, *, key=None, reverse=False)\n",
      "    Return a new list containing all items from the iterable in ascending order.\n",
      "    \n",
      "    A custom key function can be supplied to customize the sort order, and the\n",
      "    reverse flag can be set to request the result in descending order.\n",
      "\n"
     ]
    }
   ],
   "source": [
    "help(sorted)"
   ]
  },
  {
   "cell_type": "markdown",
   "metadata": {},
   "source": [
    "#### Exercise 3\n",
    "\n",
    ">Use + to merge the contents of first and second into a new list: full.\n",
    "Call sorted() on full and specify the reverse argument to be True. Save the sorted list as full_sorted.\n",
    "Finish off by printing out full_sorted."
   ]
  },
  {
   "cell_type": "code",
   "execution_count": 66,
   "metadata": {
    "collapsed": false
   },
   "outputs": [
    {
     "name": "stdout",
     "output_type": "stream",
     "text": [
      "[20.0, 18.0, 11.25, 10.75, 9.5]\n"
     ]
    }
   ],
   "source": [
    "# Create lists first and second\n",
    "first = [11.25, 18.0, 20.0]\n",
    "second = [10.75, 9.50]\n",
    "\n",
    "full = first + second\n",
    "\n",
    "full_sorted = sorted(full,reverse=True)\n",
    "print(full_sorted)"
   ]
  },
  {
   "cell_type": "markdown",
   "metadata": {},
   "source": [
    "## G. Methods"
   ]
  },
  {
   "cell_type": "markdown",
   "metadata": {},
   "source": [
    "### 1. String Methods\n",
    "\n",
    "Strings come with a bunch of methods. Follow the instructions closely to discover some of them. If you want to discover them in more detail, you can always type help(str) in the IPython Shell.\n",
    "\n",
    "A string room has already been created for you to experiment with."
   ]
  },
  {
   "cell_type": "markdown",
   "metadata": {},
   "source": [
    "#### Exercise 1\n",
    ">Use the upper() method on room and store the result in room_up. Use the dot notation.\n",
    "\n",
    ">Print out room and room_up. Did both change?\n",
    "\n",
    ">Print out the number of o's on the variable room by calling count() on room and passing the letter \"o\" as an input to the method. We're talking about the variable room, not the word \"room\"!"
   ]
  },
  {
   "cell_type": "code",
   "execution_count": 67,
   "metadata": {
    "collapsed": false
   },
   "outputs": [
    {
     "name": "stdout",
     "output_type": "stream",
     "text": [
      "poolhouse\n",
      "POOLHOUSE\n",
      "3\n"
     ]
    }
   ],
   "source": [
    "room = 'poolhouse'\n",
    "\n",
    "room_up = room.upper()\n",
    "\n",
    "print(room)\n",
    "print(room_up)\n",
    "\n",
    "y = room.count('o')\n",
    "print(y)"
   ]
  },
  {
   "cell_type": "markdown",
   "metadata": {},
   "source": [
    "### 2. List Methods\n",
    "\n",
    "Strings are not the only Python types that have methods associated with them. Lists, floats, integers and booleans are also types that come packaged with a bunch of useful methods. In this exercise, you'll be experimenting with:\n",
    "\n",
    ">$index()$, to get the index of the first element of a list that matches its input and\n",
    "\n",
    ">$count()$, to get the number of times an element appears in a list.\n",
    "\n",
    "You'll be working on the list with the area of different parts of a house: areas."
   ]
  },
  {
   "cell_type": "markdown",
   "metadata": {},
   "source": [
    "#### Exerise 2\n",
    ">Use the index() method to get the index of the element in areas that is equal to 20.0. Print out this index.\n",
    "\n",
    ">Call count() on areas to find out how many times 14.5 appears in the list. Again, simply print out this number."
   ]
  },
  {
   "cell_type": "code",
   "execution_count": 68,
   "metadata": {
    "collapsed": false
   },
   "outputs": [
    {
     "name": "stdout",
     "output_type": "stream",
     "text": [
      "2\n",
      "0\n"
     ]
    }
   ],
   "source": [
    "areas = [11.25, 18.0, 20.0, 10.75, 9.50]\n",
    "\n",
    "print(areas.index(20.0))\n",
    "\n",
    "print(areas.count(14.5))"
   ]
  },
  {
   "cell_type": "markdown",
   "metadata": {},
   "source": [
    "### 3. List Methods (2)\n",
    "\n",
    "Most list methods will change the list they're called on. Examples are:\n",
    "\n",
    ">$append()$, that adds an element to the list it is called on,\n",
    "\n",
    ">$remove()$, that removes the first element of a list that matches the input, and\n",
    "\n",
    ">$reverse()$, that reverses the order of the elements in the list it is called on. \n",
    "\n",
    "You'll be working on the list with the area of different parts of the house: areas."
   ]
  },
  {
   "cell_type": "markdown",
   "metadata": {},
   "source": [
    "#### Exercise 3\n",
    ">Use append() twice to add the size of the poolhouse and the garage again: 24.5 and 15.45, respectively. Make sure to add them in this order.\n",
    "\n",
    ">Print out areas\n",
    "\n",
    ">Use the reverse() method to reverse the order of the elements in areas.\n",
    "\n",
    ">Print out areas once more."
   ]
  },
  {
   "cell_type": "code",
   "execution_count": 75,
   "metadata": {
    "collapsed": false
   },
   "outputs": [
    {
     "name": "stdout",
     "output_type": "stream",
     "text": [
      "[11.25, 18.0, 20.0, 10.75, 9.5, 24.5, 15.45]\n",
      "[15.45, 24.5, 9.5, 10.75, 20.0, 18.0, 11.25]\n",
      "[15.45, 24.5, 9.5, 10.75, 20.0, 11.25]\n"
     ]
    }
   ],
   "source": [
    "areas = [11.25, 18.0, 20.0, 10.75, 9.50]\n",
    "\n",
    "areas.append(24.5)\n",
    "areas.append(15.45)\n",
    "print(areas)\n",
    "\n",
    "areas.reverse()\n",
    "print(areas)\n",
    "\n",
    "areas.remove(18.0)\n",
    "print(areas)"
   ]
  },
  {
   "cell_type": "markdown",
   "metadata": {},
   "source": [
    "## H. Packages"
   ]
  },
  {
   "cell_type": "markdown",
   "metadata": {},
   "source": [
    "### 1. Import package\n",
    "\n",
    "As a data scientist, some notions of geometry never hurt. Let's refresh some of the basics.\n",
    "\n",
    "For a fancy clustering algorithm, you want to find the circumference C and area A of a circle. When the radius of the circle is r, you can calculate C and A as:\n",
    "\n",
    ">C=2πr\n",
    " \n",
    ">A=πr2\n",
    "\n",
    "To use the constant pi, you'll need the math package. A variable r is already coded in the script. Fill in the code to calculate C and A and see how the print() functions create some nice printouts."
   ]
  },
  {
   "cell_type": "markdown",
   "metadata": {},
   "source": [
    "#### Exercise 1\n",
    ">Import the math package. Now you can access the constant pi with math.pi.\n",
    "Calculate the circumference of the circle and store it in C.\n",
    "Calculate the area of the circle and store it in A"
   ]
  },
  {
   "cell_type": "code",
   "execution_count": 78,
   "metadata": {
    "collapsed": false
   },
   "outputs": [
    {
     "name": "stdout",
     "output_type": "stream",
     "text": [
      "Circumference:  2.701769682087222\n",
      "Area: 0.5808804816487527\n"
     ]
    }
   ],
   "source": [
    "# Import the math package\n",
    "import math\n",
    "\n",
    "# Definition of radius\n",
    "r = 0.43\n",
    "\n",
    "pi = math.pi\n",
    "\n",
    "C = pi*2*r\n",
    "A = pi*r**2\n",
    "\n",
    "print(\"Circumference: \",C)\n",
    "print(\"Area: \" + str(A))"
   ]
  },
  {
   "cell_type": "markdown",
   "metadata": {},
   "source": [
    "### 2. Selective import\n",
    "\n",
    "General imports, like import math, make all functionality from the math package available to you. However, if you decide to only use a specific part of a package, you can always make your import more selective:\n",
    "\n",
    ">from math import pi\n",
    "\n",
    "Let's say the Moon's orbit around planet Earth is a perfect circle, with a radius r (in km) that is defined in the script."
   ]
  },
  {
   "cell_type": "markdown",
   "metadata": {},
   "source": [
    "#### Exercise 2\n",
    ">Perform a selective import from the math package where you only import the radians function.\n",
    "\n",
    ">Calculate the distance travelled by the Moon over 12 degrees of its orbit. Assign the result to dist. You can calculate this as r∗ϕr∗ϕ, where rr is the radius and ϕϕ is the angle in radians. To convert an angle in degrees to an angle in radians, use the radians() function, which you just imported.\n",
    "\n",
    ">Print out dist.\n"
   ]
  },
  {
   "cell_type": "code",
   "execution_count": 79,
   "metadata": {
    "collapsed": false
   },
   "outputs": [
    {
     "name": "stdout",
     "output_type": "stream",
     "text": [
      "40317.10572106901\n"
     ]
    }
   ],
   "source": [
    "# Definition of radius\n",
    "r = 192500\n",
    "\n",
    "# Import radians function of math package\n",
    "from math import radians\n",
    "\n",
    "# Travel distance of Moon if 12 degrees. Store in dist.\n",
    "dist = r*radians(12)\n",
    "\n",
    "# Print out dist\n",
    "print (dist)"
   ]
  },
  {
   "cell_type": "markdown",
   "metadata": {},
   "source": [
    "## I. Numpy"
   ]
  },
  {
   "cell_type": "markdown",
   "metadata": {},
   "source": [
    "### 1. Your First Numpy Array\n",
    "\n",
    "We're going to dive into the world of baseball. Along the way, you'll get comfortable with the basics of Numpy, a powerful package to do data science.\n",
    "\n",
    "A list baseball has already been defined in the Python script, representing the height of some baseball players in centimeters. Can you add some code here and there to create a Numpy array from it?"
   ]
  },
  {
   "cell_type": "markdown",
   "metadata": {},
   "source": [
    "#### Exercise 1\n",
    ">Import the numpy package as np, so that you can refer to numpy with np.\n",
    "\n",
    ">Use np.array() to create a Numpy array from baseball. Name this array np_baseball.\n",
    "\n",
    ">Print out the type of np_baseball to check that you got it right."
   ]
  },
  {
   "cell_type": "code",
   "execution_count": 82,
   "metadata": {
    "collapsed": false
   },
   "outputs": [
    {
     "name": "stdout",
     "output_type": "stream",
     "text": [
      "[180, 215, 210, 210, 188, 176, 209, 200]\n",
      "[180 215 210 210 188 176 209 200]\n",
      "<class 'numpy.ndarray'>\n"
     ]
    }
   ],
   "source": [
    "# Create list baseball\n",
    "baseball = [180, 215, 210, 210, 188, 176, 209, 200]\n",
    "print(baseball)\n",
    "# Import the numpy package as np\n",
    "import numpy as np\n",
    "\n",
    "# Create a Numpy array from baseball: np_baseball\n",
    "np_baseball = np.array(baseball)\n",
    "\n",
    "# Print out type of np_baseball\n",
    "print(np_baseball)\n",
    "print(type(np_baseball))"
   ]
  },
  {
   "cell_type": "markdown",
   "metadata": {},
   "source": [
    "### 2. Baseball players' height\n",
    "\n",
    "You are a huge baseball fan. You decide to call the MLB (Major League Baseball) and ask around for some more statistics on the height of the main players. They pass along data on more than a thousand players, which is stored as a regular Python list: height. The height is expressed in inches. Can you make a Numpy array out of it and convert the units to centimeters?\n",
    "\n",
    "height is already available and the numpy package is loaded, so you can start straight away (Source: stat.ucla.edu)."
   ]
  },
  {
   "cell_type": "markdown",
   "metadata": {},
   "source": [
    "#### Exercise 2\n",
    ">Create a Numpy array from height. Name this new array np_height.\n",
    "\n",
    ">Print np_height.\n",
    "\n",
    ">Multiply np_height with 0.0254 to convert all height measurements from inches to meters. Store the new values in a new array, np_height_m.\n",
    "\n",
    ">Print out np_height_m and check if the output makes sense."
   ]
  },
  {
   "cell_type": "code",
   "execution_count": 2,
   "metadata": {
    "collapsed": false
   },
   "outputs": [
    {
     "name": "stdout",
     "output_type": "stream",
     "text": [
      "[ 65.78  71.52  69.4   68.22  67.79  68.7   69.8   70.01  67.9   66.78\n",
      "  66.49  67.62  68.3   67.12  68.28  71.09  66.46  68.65  71.23  67.13\n",
      "  67.83  68.88  63.48  68.42  67.63  67.21  70.84  67.49  66.53  65.44\n",
      "  69.52  65.81  67.82  70.6   71.8   69.21  66.8   67.66  67.81  64.05\n",
      "  68.57  65.18  69.66  67.97  65.98  68.67  66.88  67.7   69.82  69.09\n",
      "  69.91  67.33  70.27  69.1   65.38  70.18  70.41  66.54  66.36  67.54\n",
      "  66.5   69.    68.3   67.01  70.81  68.22  69.06  67.73  67.22  67.37\n",
      "  65.27  70.84  69.92  64.29  68.25  66.36  68.36  65.48  69.72  67.73\n",
      "  68.64  66.78  70.05  66.28  69.2   69.13  67.36  70.09  70.18  68.23\n",
      "  68.13  70.24  71.49  69.2   70.06  70.56  66.29  63.43  66.77  68.89\n",
      "  64.87  67.09  68.35  65.61  67.76  68.02  67.66  66.31  69.44  63.84\n",
      "  67.72  70.05  70.19  65.95  70.01  68.61  68.81  69.76  65.46  68.83\n",
      "  65.8   67.21  69.42  68.94  67.94  65.63  66.5   67.93  68.89  70.24\n",
      "  68.27  71.23  69.1   64.4   71.1   68.22  65.92  67.44  73.9   69.98\n",
      "  69.52  65.18  68.01  68.34  65.18  68.26  68.57  64.5   68.71  68.89\n",
      "  69.54  67.4   66.48  66.01  72.44  64.13  70.98  67.5   72.02  65.31\n",
      "  67.08  64.39  69.37  68.38  65.31  67.14  68.39  66.29  67.19  65.99\n",
      "  69.43  67.97  67.76  65.28  73.83  66.81  66.89  65.74  65.98  66.58\n",
      "  67.11  65.87  66.78  68.74  66.23  65.96  68.58  66.59  66.97  68.08\n",
      "  70.19  65.52  67.46  67.41  69.66  65.8   66.11  68.24  68.02  71.39]\n",
      "[ 1.670812  1.816608  1.76276   1.732788  1.721866  1.74498   1.77292\n",
      "  1.778254  1.72466   1.696212  1.688846  1.717548  1.73482   1.704848\n",
      "  1.734312  1.805686  1.688084  1.74371   1.809242  1.705102  1.722882\n",
      "  1.749552  1.612392  1.737868  1.717802  1.707134  1.799336  1.714246\n",
      "  1.689862  1.662176  1.765808  1.671574  1.722628  1.79324   1.82372\n",
      "  1.757934  1.69672   1.718564  1.722374  1.62687   1.741678  1.655572\n",
      "  1.769364  1.726438  1.675892  1.744218  1.698752  1.71958   1.773428\n",
      "  1.754886  1.775714  1.710182  1.784858  1.75514   1.660652  1.782572\n",
      "  1.788414  1.690116  1.685544  1.715516  1.6891    1.7526    1.73482\n",
      "  1.702054  1.798574  1.732788  1.754124  1.720342  1.707388  1.711198\n",
      "  1.657858  1.799336  1.775968  1.632966  1.73355   1.685544  1.736344\n",
      "  1.663192  1.770888  1.720342  1.743456  1.696212  1.77927   1.683512\n",
      "  1.75768   1.755902  1.710944  1.780286  1.782572  1.733042  1.730502\n",
      "  1.784096  1.815846  1.75768   1.779524  1.792224  1.683766  1.611122\n",
      "  1.695958  1.749806  1.647698  1.704086  1.73609   1.666494  1.721104\n",
      "  1.727708  1.718564  1.684274  1.763776  1.621536  1.720088  1.77927\n",
      "  1.782826  1.67513   1.778254  1.742694  1.747774  1.771904  1.662684\n",
      "  1.748282  1.67132   1.707134  1.763268  1.751076  1.725676  1.667002\n",
      "  1.6891    1.725422  1.749806  1.784096  1.734058  1.809242  1.75514\n",
      "  1.63576   1.80594   1.732788  1.674368  1.712976  1.87706   1.777492\n",
      "  1.765808  1.655572  1.727454  1.735836  1.655572  1.733804  1.741678\n",
      "  1.6383    1.745234  1.749806  1.766316  1.71196   1.688592  1.676654\n",
      "  1.839976  1.628902  1.802892  1.7145    1.829308  1.658874  1.703832\n",
      "  1.635506  1.761998  1.736852  1.658874  1.705356  1.737106  1.683766\n",
      "  1.706626  1.676146  1.763522  1.726438  1.721104  1.658112  1.875282\n",
      "  1.696974  1.699006  1.669796  1.675892  1.691132  1.704594  1.673098\n",
      "  1.696212  1.745996  1.682242  1.675384  1.741932  1.691386  1.701038\n",
      "  1.729232  1.782826  1.664208  1.713484  1.712214  1.769364  1.67132\n",
      "  1.679194  1.733296  1.727708  1.813306]\n"
     ]
    }
   ],
   "source": [
    "# height is available as a regular list\n",
    "height = [65.78,71.52,69.4,68.22,67.79,68.7,69.8,70.01,67.9,66.78,66.49,67.62,68.3,67.12,68.28,71.09,66.46,68.65,71.23,67.13,67.83,68.88,63.48,68.42,67.63,67.21,70.84,67.49,66.53,65.44,69.52,65.81,67.82,70.6,71.8,69.21,66.8,67.66,67.81,64.05,68.57,65.18,69.66,67.97,65.98,68.67,66.88,67.7,69.82,69.09,69.91,67.33,70.27,69.1,65.38,70.18,70.41,66.54,66.36,67.54,66.5,69,68.3,67.01,70.81,68.22,69.06,67.73,67.22,67.37,65.27,70.84,69.92,64.29,68.25,66.36,68.36,65.48,69.72,67.73,68.64,66.78,70.05,66.28,69.2,69.13,67.36,70.09,70.18,68.23,68.13,70.24,71.49,69.2,70.06,70.56,66.29,63.43,66.77,68.89,64.87,67.09,68.35,65.61,67.76,68.02,67.66,66.31,69.44,63.84,67.72,70.05,70.19,65.95,70.01,68.61,68.81,69.76,65.46,68.83,65.8,67.21,69.42,68.94,67.94,65.63,66.5,67.93,68.89,70.24,68.27,71.23,69.1,64.4,71.1,68.22,65.92,67.44,73.9,69.98,69.52,65.18,68.01,68.34,65.18,68.26,68.57,64.5,68.71,68.89,69.54,67.4,66.48,66.01,72.44,64.13,70.98,67.5,72.02,65.31,67.08,64.39,69.37,68.38,65.31,67.14,68.39,66.29,67.19,65.99,69.43,67.97,67.76,65.28,73.83,66.81,66.89,65.74,65.98,66.58,67.11,65.87,66.78,68.74,66.23,65.96,68.58,66.59,66.97,68.08,70.19,65.52,67.46,67.41,69.66,65.8,66.11,68.24,68.02,71.39]\n",
    "weight =[112.99,136.49,153.03,142.34,144.3,123.3,141.49,136.46,112.37,120.67,127.45,114.14,125.61,122.46,116.09,140,129.5,142.97,137.9,124.04,141.28,143.54,97.9,129.5,141.85,129.72,142.42,131.55,108.33,113.89,103.3,120.75,125.79,136.22,140.1,128.75,141.8,121.23,131.35,106.71,124.36,124.86,139.67,137.37,106.45,128.76,145.68,116.82,143.62,134.93,147.02,126.33,125.48,115.71,123.49,147.89,155.9,128.07,119.37,133.81,128.73,137.55,129.76,128.82,135.32,109.61,142.47,132.75,103.53,124.73,129.31,134.02,140.4,102.84,128.52,120.3,138.6,132.96,115.62,122.52,134.63,121.9,155.38,128.94,129.1,139.47,140.89,131.59,121.12,131.51,136.55,141.49,140.61,112.14,133.46,131.8,120.03,123.1,128.14,115.48,102.09,130.35,134.18,98.64,114.56,123.49,123.05,126.48,128.42,127.19,122.06,127.61,131.64,111.9,122.04,128.55,132.68,136.06,115.94,136.9,119.88,109.01,128.27,135.29,106.86,123.29,109.51,119.31,140.24,133.98,132.58,130.7,115.56,123.79,128.14,135.96,116.63,126.82,151.39,130.4,136.21,113.4,125.33,127.58,107.16,116.46,133.84,112.89,130.76,137.76,125.4,138.47,120.82,140.15,136.74,106.11,158.96,108.79,138.78,115.91,146.29,109.88,139.05,119.9,128.31,127.24,115.23,124.8,126.95,111.27,122.61,124.21,124.65,119.52,139.3,104.83,123.04,118.89,121.49,119.25,135.02,116.23,109.17,124.22,141.16,129.15,127.87,120.92,127.65,101.47,144.99,110.95,132.86,146.34,145.59,120.84,115.78,128.3,127.47,127.88]\n",
    "\n",
    "# Import numpy\n",
    "import numpy as np\n",
    "\n",
    "# Create a Numpy array from height: np_height\n",
    "np_height = np.array(height)\n",
    "\n",
    "# Print out np_height\n",
    "print(np_height)\n",
    "\n",
    "# Convert np_height to m: np_height_m\n",
    "np_height_m = np_height*0.0254\n",
    "\n",
    "# Print np_height_m\n",
    "print(np_height_m)"
   ]
  },
  {
   "cell_type": "markdown",
   "metadata": {
    "collapsed": false
   },
   "source": [
    "### 3. Baseball player's BMI\n",
    "\n",
    "The MLB also offers to let you analyze their weight data. Again, both are available as regular Python lists: height and weight. height is in inches and weight is in pounds.\n",
    "\n",
    "It's now possible to calculate the BMI of each baseball player. Python code to convert height to a Numpy array with the correct units is already available in the workspace. Follow the instructions step by step and finish the game!"
   ]
  },
  {
   "cell_type": "markdown",
   "metadata": {
    "collapsed": true
   },
   "source": [
    "#### Exercise 3\n",
    ">Create a Numpy array from the weight list with the correct units. \n",
    "\n",
    ">Multiply by 0.453592 to go from pounds to kilograms. Store the resulting Numpy array as np_weight_kg.\n",
    "\n",
    ">Use np_height_m and np_weight_kg to calculate the BMI of each player. \n",
    ">Use the following equation:\n",
    "\n",
    ">>BMI=weight(kg)/height(m)2\n",
    "\n",
    ">Save the resulting numpy array as bmi.\n",
    "\n",
    ">Print out bmi."
   ]
  },
  {
   "cell_type": "code",
   "execution_count": 24,
   "metadata": {
    "collapsed": false
   },
   "outputs": [
    {
     "name": "stdout",
     "output_type": "stream",
     "text": [
      "[ 18.35905079  18.76047263  22.33858142  21.50312029  22.07664206\n",
      "  18.36739457  20.41798378  19.57416139  17.13597364  19.02411385\n",
      "  20.26866417  17.55033814  18.93131411  19.11121563  17.50675844\n",
      "  19.47641233  20.61327739  21.32857238  19.10892829  19.35202499\n",
      "  21.58912322  21.27083889  17.08074498  19.44919281  21.8046198\n",
      "  20.19003642  19.95316663  20.30532519  17.20725716  18.69807789\n",
      "  15.02722357  19.6020418   19.22775144  19.21451501  19.10676666\n",
      "  18.89763656  22.34195944  18.61847352  20.08355276  18.2879407\n",
      "  18.59560735  20.66296173  20.2364415   20.9052474   17.19170683\n",
      "  19.19750663  22.89841157  17.91999225  20.71348559  19.87357912\n",
      "  21.14928878  19.59238112  17.866215    17.03777003  20.31140244\n",
      "  21.11105972  22.1093197   20.33666663  19.0581347   20.62359688\n",
      "  20.46606889  20.31235913  19.55678145  20.16981951  18.97451804\n",
      "  16.55864139  21.00236633  20.34559202  16.10894693  19.32127495\n",
      "  21.34041395  18.77631928  20.19120423  17.49335742  19.39828602\n",
      "  19.20661477  20.85244936  21.8022652   16.72307591  18.77771702\n",
      "  20.09024575  19.21802833  22.26264653  20.63576718  18.95448576\n",
      "  20.51850149  21.83101687  18.83253226  17.28968526  19.86122303\n",
      "  20.68296893  20.16297882  19.34298821  16.46441544  19.11651877\n",
      "  18.61213608  19.20400105  21.51129634  20.20784119  17.10772887\n",
      "  17.0566352   20.36073281  20.19336535  16.11057129  17.54220425\n",
      "  18.7653422   18.89798867  20.22375308  18.72454159  21.94144187\n",
      "  18.71274157  18.28379665  18.78604429  18.08832864  17.50572077\n",
      "  19.19973327  19.70154569  19.65692026  19.02301048  20.31635824\n",
      "  19.46672528  16.96666566  18.71344862  20.01340996  16.27653805\n",
      "  20.12430993  17.41038767  18.17822898  20.77578712  19.09276911\n",
      "  19.99936295  18.11121774  17.01568321  20.98513567  17.82146784\n",
      "  20.53930192  18.87008391  19.60426564  19.48974986  18.72094072\n",
      "  19.81469625  18.76645732  19.05054669  19.2057204   17.7338057\n",
      "  17.57284875  20.01315607  19.07805062  19.47300466  20.40838872\n",
      "  18.23165596  21.43057641  19.22006105  22.61369809  18.32047145\n",
      "  18.13977048  22.18266993  16.78724328  18.81129102  19.10554767\n",
      "  22.85738193  18.63286999  20.3154084   18.02847298  21.14945062\n",
      "  19.84535809  17.32121321  19.9671693   19.77066949  17.96469236\n",
      "  17.88255276  18.9025317   19.08725349  19.71869847  17.96732124\n",
      "  16.5120348   19.33400754  19.3412207   19.62067132  18.91336305\n",
      "  21.07762042  18.83392619  17.21109231  18.48291313  22.62559936\n",
      "  20.87041426  19.11488355  19.17246977  20.01051078  15.39205191\n",
      "  20.69119235  18.17094367  20.52577328  22.64187297  21.09417569\n",
      "  19.62261498  18.62503871  19.37075611  19.37013661  17.64110629]\n"
     ]
    }
   ],
   "source": [
    "# height and weight are available as a regular lists\n",
    "\n",
    "# Import numpy\n",
    "import numpy as np\n",
    "\n",
    "# Create array from height with correct units: np_height_m\n",
    "np_height_m = np.array(height) * 0.0254\n",
    "\n",
    "# Create array from weight with correct units: np_weight_kg\n",
    "np_weight_kg = np.array(weight)*0.453592\n",
    "\n",
    "# Calculate the BMI: bmi\n",
    "bmi = np_weight_kg/np_height_m**2\n",
    "\n",
    "# Print out bmi\n",
    "print(bmi)"
   ]
  },
  {
   "cell_type": "markdown",
   "metadata": {
    "collapsed": true
   },
   "source": [
    "### 4. Lightweight baseball players\n",
    "\n",
    "To subset both regular Python lists and Numpy arrays, you can use square brackets:\n",
    "\n",
    ">x = [4 , 9 , 6, 3, 1]\n",
    "\n",
    ">x[1]\n",
    "\n",
    ">import numpy as np\n",
    "\n",
    ">y = np.array(x)\n",
    "\n",
    ">y[1]\n",
    "\n",
    "For Numpy specifically, you can also use boolean Numpy arrays:\n",
    "\n",
    ">high = y > 5\n",
    "\n",
    ">y[high]\n",
    "\n",
    "The code that calculates the BMI of all baseball players is already included. Follow the instructions and reveal interesting things from the data!"
   ]
  },
  {
   "cell_type": "markdown",
   "metadata": {},
   "source": [
    "#### Exercise 4\n",
    ">Create a boolean Numpy array: the element of the array should be True if the corresponding baseball player's BMI is below 21. You can use the < operator for this. Name the array light.\n",
    "\n",
    ">Print the array light.\n",
    "\n",
    ">Print out a Numpy array with the BMIs of all baseball players whose \n",
    "\n",
    ">BMI is below 21. Use light inside square brackets to do a selection on the bmi array.\n"
   ]
  },
  {
   "cell_type": "code",
   "execution_count": 3,
   "metadata": {
    "collapsed": false
   },
   "outputs": [
    {
     "name": "stdout",
     "output_type": "stream",
     "text": [
      "[ True  True False False False  True  True  True  True  True  True  True\n",
      "  True  True  True  True  True False  True  True False False  True  True\n",
      " False  True  True  True  True  True  True  True  True  True  True  True\n",
      " False  True  True  True  True  True  True  True  True  True False  True\n",
      "  True  True False  True  True  True  True False False  True  True  True\n",
      "  True  True  True  True  True  True False  True  True  True False  True\n",
      "  True  True  True  True  True False  True  True  True  True False  True\n",
      "  True  True False  True  True  True  True  True  True  True  True  True\n",
      "  True False  True  True  True  True  True  True  True  True  True  True\n",
      "  True False  True  True  True  True  True  True  True  True  True  True\n",
      "  True  True  True  True  True  True  True  True  True  True  True  True\n",
      "  True  True  True  True  True  True  True  True  True  True  True  True\n",
      "  True  True  True  True  True  True  True False  True False  True  True\n",
      " False  True  True  True False  True  True  True False  True  True  True\n",
      "  True  True  True  True  True  True  True  True  True  True  True  True\n",
      " False  True  True  True False  True  True  True  True  True  True  True\n",
      "  True False False  True  True  True  True  True]\n",
      "[ 18.35905079  18.76047263  18.36739457  20.41798378  19.57416139\n",
      "  17.13597364  19.02411385  20.26866417  17.55033814  18.93131411\n",
      "  19.11121563  17.50675844  19.47641233  20.61327739  19.10892829\n",
      "  19.35202499  17.08074498  19.44919281  20.19003642  19.95316663\n",
      "  20.30532519  17.20725716  18.69807789  15.02722357  19.6020418\n",
      "  19.22775144  19.21451501  19.10676666  18.89763656  18.61847352\n",
      "  20.08355276  18.2879407   18.59560735  20.66296173  20.2364415\n",
      "  20.9052474   17.19170683  19.19750663  17.91999225  20.71348559\n",
      "  19.87357912  19.59238112  17.866215    17.03777003  20.31140244\n",
      "  20.33666663  19.0581347   20.62359688  20.46606889  20.31235913\n",
      "  19.55678145  20.16981951  18.97451804  16.55864139  20.34559202\n",
      "  16.10894693  19.32127495  18.77631928  20.19120423  17.49335742\n",
      "  19.39828602  19.20661477  20.85244936  16.72307591  18.77771702\n",
      "  20.09024575  19.21802833  20.63576718  18.95448576  20.51850149\n",
      "  18.83253226  17.28968526  19.86122303  20.68296893  20.16297882\n",
      "  19.34298821  16.46441544  19.11651877  18.61213608  19.20400105\n",
      "  20.20784119  17.10772887  17.0566352   20.36073281  20.19336535\n",
      "  16.11057129  17.54220425  18.7653422   18.89798867  20.22375308\n",
      "  18.72454159  18.71274157  18.28379665  18.78604429  18.08832864\n",
      "  17.50572077  19.19973327  19.70154569  19.65692026  19.02301048\n",
      "  20.31635824  19.46672528  16.96666566  18.71344862  20.01340996\n",
      "  16.27653805  20.12430993  17.41038767  18.17822898  20.77578712\n",
      "  19.09276911  19.99936295  18.11121774  17.01568321  20.98513567\n",
      "  17.82146784  20.53930192  18.87008391  19.60426564  19.48974986\n",
      "  18.72094072  19.81469625  18.76645732  19.05054669  19.2057204\n",
      "  17.7338057   17.57284875  20.01315607  19.07805062  19.47300466\n",
      "  20.40838872  18.23165596  19.22006105  18.32047145  18.13977048\n",
      "  16.78724328  18.81129102  19.10554767  18.63286999  20.3154084\n",
      "  18.02847298  19.84535809  17.32121321  19.9671693   19.77066949\n",
      "  17.96469236  17.88255276  18.9025317   19.08725349  19.71869847\n",
      "  17.96732124  16.5120348   19.33400754  19.3412207   19.62067132\n",
      "  18.91336305  18.83392619  17.21109231  18.48291313  20.87041426\n",
      "  19.11488355  19.17246977  20.01051078  15.39205191  20.69119235\n",
      "  18.17094367  20.52577328  19.62261498  18.62503871  19.37075611\n",
      "  19.37013661  17.64110629]\n"
     ]
    }
   ],
   "source": [
    "# height and weight are available as a regular lists\n",
    "\n",
    "# Import numpy\n",
    "import numpy as np\n",
    "\n",
    "# Calculate the BMI: bmi\n",
    "np_height_m = np.array(height) * 0.0254\n",
    "np_weight_kg = np.array(weight) * 0.453592\n",
    "bmi = np_weight_kg / np_height_m ** 2\n",
    "\n",
    "# Create the light array\n",
    "light = bmi < 21\n",
    "\n",
    "# Print out light\n",
    "print(light)\n",
    "\n",
    "# Print out BMIs of all baseball players whose BMI is below 21\n",
    "print(bmi[light])"
   ]
  },
  {
   "cell_type": "markdown",
   "metadata": {},
   "source": [
    "### 5. Numpy Side Effects\n",
    "\n",
    "Numpy is great to do vector arithmetic. If you compare its functionality with regular Python lists, however, some things have changed.\n",
    "\n",
    "First of all, Numpy arrays cannot contain elements with different types. If you try to build such a list, some of the elments' types are changed to end up with a homogenous list. This is known as type coercion.\n",
    "\n",
    "Second, the typical arithmetic operators, such as +, -, * and / have a different meaning for regular Python lists and Numpy arrays."
   ]
  },
  {
   "cell_type": "markdown",
   "metadata": {},
   "source": [
    "### 6. Subsetting Numpy Arrays\n",
    "\n",
    "You've seen it with your own eyes: Python lists and Numpy arrays sometimes behave differently. Luckily, there are still certainties in this world. For example, subsetting (using the square bracket notation on lists or arrays) works exactly the same. To see this for yourself, try the following lines of code in the IPython Shell: \n",
    "\n",
    ">x = [\"a\", \"b\", \"c\"]\n",
    "\n",
    ">x[1]\n",
    "\n",
    ">np_x = np.array(x)\n",
    "\n",
    ">np_x[1]\n",
    "\n",
    "The script on the right already contains code that imports numpy as np, and stores both the height and weight of the MLB players as Numpy arrays."
   ]
  },
  {
   "cell_type": "markdown",
   "metadata": {},
   "source": [
    "#### Exercise 5\n",
    ">Subset np_weight: print out the element at index 50.\n",
    "\n",
    ">Print out a sub-array of np_height: It contains the elements at index 100 up to and including index 110"
   ]
  },
  {
   "cell_type": "code",
   "execution_count": 4,
   "metadata": {
    "collapsed": false
   },
   "outputs": [
    {
     "name": "stdout",
     "output_type": "stream",
     "text": [
      "147.02\n",
      "[ 64.87  67.09  68.35  65.61  67.76  68.02  67.66  66.31  69.44  63.84\n",
      "  67.72]\n"
     ]
    }
   ],
   "source": [
    "# height and weight are available as a regular lists\n",
    "\n",
    "# Import numpy\n",
    "import numpy as np\n",
    "\n",
    "# Store weight and height lists as numpy arrays\n",
    "np_weight = np.array(weight)\n",
    "np_height = np.array(height)\n",
    "\n",
    "# Print out the weight at index 50\n",
    "print (np_weight [50])\n",
    "\n",
    "# Print out sub-array of np_height: index 100 up to and including index 110\n",
    "print (np_height[100:111])"
   ]
  },
  {
   "cell_type": "markdown",
   "metadata": {},
   "source": [
    "## J. Numpy Arrays"
   ]
  },
  {
   "cell_type": "markdown",
   "metadata": {},
   "source": [
    "### 1. Your First 2D Numpy Array\n",
    "\n",
    "Before working on the actual MLB data, let's try to create a 2D Numpy array from a small list of lists.\n",
    "\n",
    "In this exercise, baseball is a list of lists. The main list contains 4 elements. Each of these elements is a list containing the height and the weight of 4 baseball players, in this order. baseball is already coded for you in the script."
   ]
  },
  {
   "cell_type": "markdown",
   "metadata": {},
   "source": [
    "#### Exercise 1\n",
    ">Use np.array() to create a 2D Numpy array from baseball. Name it np_baseball.\n",
    "\n",
    ">Print out the type of np_baseball.\n",
    "\n",
    ">Print out the shape attribute of np_baseball. Use np_baseball.shape."
   ]
  },
  {
   "cell_type": "code",
   "execution_count": 6,
   "metadata": {
    "collapsed": false
   },
   "outputs": [
    {
     "name": "stdout",
     "output_type": "stream",
     "text": [
      "<class 'numpy.ndarray'>\n",
      "(4, 2)\n"
     ]
    }
   ],
   "source": [
    "# Create baseball, a list of lists\n",
    "baseball = [[180, 78.4],\n",
    "            [215, 102.7],\n",
    "            [210, 98.5],\n",
    "            [188, 75.2]]\n",
    "\n",
    "# Import numpy\n",
    "import numpy as np\n",
    "\n",
    "# Create a 2D Numpy array from baseball: np_baseball\n",
    "np_baseball = np.array(baseball)\n",
    "\n",
    "# Print out the type of np_baseball\n",
    "print(type(np_baseball))\n",
    "\n",
    "# Print out the shape of np_baseball\n",
    "print(np_baseball.shape)"
   ]
  },
  {
   "cell_type": "markdown",
   "metadata": {},
   "source": [
    "### 2. Baseball data in 2D form\n",
    "\n",
    "You have another look at the MLB data and realize that it makes more sense to restructure all this information in a 2D Numpy array. This array should have 1015 rows, corresponding to the 1015 baseball players you have information on, and 2 columns (for height and weight).\n",
    "\n",
    "The MLB was, again, very helpful and passed you the data in a different structure, a Python list of lists. In this list of lists, each sublist represents the height and weight of a single baseball player. The name of this embedded list is baseball.\n",
    "\n",
    "Can you store the data as a 2D array to unlock Numpy's extra functionality?"
   ]
  },
  {
   "cell_type": "markdown",
   "metadata": {},
   "source": [
    "#### Exercise 2\n",
    ">Use np.array() to create a 2D Numpy array from baseball. Name it np_baseball.\n",
    "\n",
    ">Print out the shape attribute of np_baseball."
   ]
  },
  {
   "cell_type": "code",
   "execution_count": 7,
   "metadata": {
    "collapsed": false
   },
   "outputs": [
    {
     "name": "stdout",
     "output_type": "stream",
     "text": [
      "(4, 2)\n"
     ]
    }
   ],
   "source": [
    "# baseball is available as a regular list of lists\n",
    "\n",
    "# Import numpy package\n",
    "import numpy as np\n",
    "\n",
    "# Create a 2D Numpy array from baseball: np_baseball\n",
    "np_baseball = np.array(baseball)\n",
    "\n",
    "# Print out the shape of np_baseball\n",
    "print(np_baseball.shape)"
   ]
  },
  {
   "cell_type": "markdown",
   "metadata": {},
   "source": [
    "### 3. Subsetting 2D Numpy Arrays\n",
    "\n",
    "If your 2D Numpy array has a regular structure, i.e. each row and column has a fixed number of values, complicated ways of subsetting become very easy. Have a look at the code below where the elements \"a\" and \"c\" are extracted from a list of lists.\n",
    "\n",
    "    #regular list of lists\n",
    "    x = [[\"a\", \"b\"], [\"c\", \"d\"]]\n",
    "    [x[0][0], x[1][0]]\n",
    "    \n",
    "    #numpy\n",
    "    import numpy as np\n",
    "    np_x = np.array(x)\n",
    "    np_x[:,0]\n",
    "\n",
    "For regular Python lists, this is a real pain. For 2D Numpy arrays, however, it's pretty intuitive! The indexes before the comma refer to the rows, while those after the comma refer to the columns. The : is for slicing; in this example, it tells Python to include all rows.\n",
    "\n",
    "The code that converts the pre-loaded baseball list to a 2D Numpy array is already in the script. Add some lines to make the correct selections. Remember that in Python, the first element is at index 0!"
   ]
  },
  {
   "cell_type": "markdown",
   "metadata": {},
   "source": [
    "#### Exercise 3\n",
    ">Print out the 50th row of np_baseball.\n",
    "\n",
    ">Make a new variable, np_weight, containing the entire second column of np_baseball.\n",
    "\n",
    ">Select the height (first column) of the 124th baseball player in np_baseball and print it out."
   ]
  },
  {
   "cell_type": "code",
   "execution_count": 8,
   "metadata": {
    "collapsed": false
   },
   "outputs": [
    {
     "name": "stdout",
     "output_type": "stream",
     "text": [
      "[ 210.    98.5]\n",
      "210.0\n"
     ]
    }
   ],
   "source": [
    "# baseball is available as a regular list of lists\n",
    "\n",
    "# Import numpy package\n",
    "import numpy as np\n",
    "\n",
    "# Create np_baseball (2 cols)\n",
    "np_baseball = np.array(baseball)\n",
    "\n",
    "# Print out the 2nd row of np_baseball\n",
    "print(np_baseball[2])\n",
    "\n",
    "# Select the entire second column of np_baseball: np_weight\n",
    "np_weight = np_baseball[:,1]\n",
    "\n",
    "# Print out height of 2nd player\n",
    "print(np_baseball[2,0])"
   ]
  },
  {
   "cell_type": "markdown",
   "metadata": {
    "collapsed": true
   },
   "source": [
    "### 4. 2D Arithmetic\n",
    "\n",
    "Remember how you calculated the Body Mass Index for all baseball players? Numpy was able to perform all calculations element-wise. For 2D Numpy arrays this isn't any different! You can combine matrices with single numbers, with vectors, and with other matrices.\n",
    "\n",
    "Execute the code below in the IPython shell and see if you understand:\n",
    "\n",
    "    import numpy as np\n",
    "    np_mat = np.array([[1, 2],[3, 4],[5, 6]])\n",
    "    np_mat * 2\n",
    "    np_mat + np.array([10, 10])\n",
    "    np_mat + np_mat\n",
    "\n",
    "np_baseball is coded for you; it's again a 2D Numpy array with 3 columns representing height, weight and age."
   ]
  },
  {
   "cell_type": "markdown",
   "metadata": {},
   "source": [
    "#### Exercise 4\n",
    ">You managed to get hold on the changes in weight, height and age of all baseball players. It is available as a 2D Numpy array, update. Add np_baseball and update and print out the result.\n",
    "\n",
    ">You want to convert the units of height and weight. As a first step, create a Numpy array with three values: 0.0254, 0.453592 and 1. Name this array conversion.\n",
    "\n",
    ">Multiply np_baseball with conversion and print out the result."
   ]
  },
  {
   "cell_type": "code",
   "execution_count": 11,
   "metadata": {
    "collapsed": false
   },
   "outputs": [
    {
     "name": "stdout",
     "output_type": "stream",
     "text": [
      "[[  4.572      35.5616128]\n",
      " [  5.461      46.5838984]\n",
      " [  5.334      44.678812 ]\n",
      " [  4.7752     34.1101184]]\n"
     ]
    }
   ],
   "source": [
    "#baseball is available as a regular list of lists \n",
    "# update is available as 2D Numpy array\n",
    "\n",
    "# Import numpy package\n",
    "import numpy as np\n",
    "\n",
    "# Create np_baseball (3 cols)\n",
    "np_baseball = np.array(baseball)\n",
    "\n",
    "# Print out addition of np_baseball and update\n",
    "#print(np_baseball + update)\n",
    "\n",
    "# Create Numpy array: conversion\n",
    "conversion = np.array([0.0254, 0.453592])\n",
    "\n",
    "# Print out product of np_baseball and conversion\n",
    "print(np_baseball*conversion)"
   ]
  },
  {
   "cell_type": "markdown",
   "metadata": {},
   "source": [
    "## K. Numpy Basic Statistics"
   ]
  },
  {
   "cell_type": "markdown",
   "metadata": {},
   "source": [
    "### 1. Average versus median\n",
    "\n",
    "You now know how to use Numpy functions to a get a better feeling for your data. It basically comes down to importing Numpy and then calling several simple functions on the Numpy arrays:\n",
    "\n",
    "    import numpy as np\n",
    "    x = [1, 4, 8, 10, 12]\n",
    "    np.mean(x)\n",
    "    np.median(x)\n",
    "\n",
    "The baseball data is available as a 2D Numpy array with 3 columns (height, weight, age) and 1015 rows. The name of this Numpy array is np_baseball. After restructuring the data, however, you notice that some height values are abnormally high. Follow the instructions and discover which summary statistic is best suited if you're dealing with so-called outliers."
   ]
  },
  {
   "cell_type": "markdown",
   "metadata": {},
   "source": [
    "#### Exercise 1\n",
    ">Create Numpy array np_height, that is equal to first column of np_baseball.\n",
    "\n",
    ">Print out the mean of np_height.\n",
    "\n",
    ">Print out the median of np_height."
   ]
  },
  {
   "cell_type": "code",
   "execution_count": 13,
   "metadata": {
    "collapsed": false
   },
   "outputs": [
    {
     "name": "stdout",
     "output_type": "stream",
     "text": [
      "198.25\n",
      "199.0\n"
     ]
    }
   ],
   "source": [
    "# np_baseball is available\n",
    "\n",
    "# Import numpy\n",
    "import numpy as np\n",
    "\n",
    "# Create np_height from np_baseball\n",
    "np_height = np.array(np_baseball[:,0])\n",
    "\n",
    "# Print out the mean of np_height\n",
    "print(np.mean(np_height))\n",
    "\n",
    "# Print out the median of np_height\n",
    "print(np.median(np_height))"
   ]
  },
  {
   "cell_type": "markdown",
   "metadata": {},
   "source": [
    "### 2. Explore the baseball data\n",
    "\n",
    "Because the mean and median are so far apart, you decide to complain to the MLB. They find the error and send the corrected data over to you. It's again available as a 2D Numpy array np_baseball, with three columns.\n",
    "\n",
    "The Python script on the right already includes code to print out informative messages with the different summary statistics. Can you finish the job?"
   ]
  },
  {
   "cell_type": "markdown",
   "metadata": {},
   "source": [
    "#### Exercise 2\n",
    ">The code to print out the mean height is already included. Complete the code for the median height. Replace None with the correct code.\n",
    "\n",
    ">Use np.std() on the first column of np_baseball to calculate stddev. Replace None with the correct code.\n",
    "\n",
    ">Do big players tend to be heavier? Use np.corrcoef() to store the correlation between the first and second column of np_baseball in corr. Replace None with the correct code."
   ]
  },
  {
   "cell_type": "code",
   "execution_count": 19,
   "metadata": {
    "collapsed": false
   },
   "outputs": [
    {
     "name": "stdout",
     "output_type": "stream",
     "text": [
      "Average: 198.25\n",
      "Median: 141.35\n",
      "Standard Deviation: 56.3909733468\n",
      "Correlation: [[ 1.  1.  1.  1.]\n",
      " [ 1.  1.  1.  1.]\n",
      " [ 1.  1.  1.  1.]\n",
      " [ 1.  1.  1.  1.]]\n"
     ]
    }
   ],
   "source": [
    "# np_baseball is available\n",
    "\n",
    "# Import numpy\n",
    "import numpy as np\n",
    "\n",
    "# Print mean height (first column)\n",
    "avg = np.mean(np_baseball[:,0])\n",
    "print(\"Average: \" + str(avg))\n",
    "\n",
    "# Print median height. Replace 'None'\n",
    "med = np.median(np_baseball)\n",
    "print(\"Median: \" + str(med))\n",
    "\n",
    "# Print out the standard deviation on height. Replace 'None'\n",
    "stddev = np.std(np_baseball)\n",
    "print(\"Standard Deviation: \" + str(stddev))\n",
    "\n",
    "# Print out correlation between first and second column. Replace 'None'\n",
    "corr = np.corrcoef(np_baseball)\n",
    "print(\"Correlation: \" + str(corr))"
   ]
  },
  {
   "cell_type": "markdown",
   "metadata": {},
   "source": [
    "### 3. Blend it all together\n",
    "\n",
    "In the last few exercises you've learned everything there is to know about heights and weights of baseball players. Now it's time to dive into another sport: soccer.\n",
    "\n",
    "You've contacted the FIFA for some data and they handed you two lists. The lists are the following: \n",
    "\n",
    "    positions = ['GK', 'M', 'A', 'D', ...] \n",
    "    heights = [191, 184, 185, 180, ...]\n",
    "\n",
    "Each element in the lists corresponds to a player. The first list, positions, contains strings representing each player's position. The possible positions are: 'GK' (goalkeeper), 'M' (midfield), 'A' (attack) and 'D' (defense). The second list, heights, contains integers representing the height of the player in cm. The first player in the lists is a goalkeeper and is pretty tall (191 cm).\n",
    "\n",
    "You're fairly confident that the median height of goalkeepers is higher than that of other players on the soccer field. Some of your friends don't believe you, so you are determined to show them using the data you received from FIFA and your newly acquired Python skills."
   ]
  },
  {
   "cell_type": "markdown",
   "metadata": {},
   "source": [
    "#### Exercise 3\n",
    ">Convert heights and positions, which are regular lists, to numpy arrays. Call them np_heights and np_positions.\n",
    "\n",
    ">Extract all the heights of the goalkeepers. You can use a little trick here: use np_positions == 'GK' as an index for np_heights. Assign the result to gk_heights.\n",
    "\n",
    ">Extract all the heights of the all the other players. This time use np_positions != 'GK' as an index for np_heights. Assign the result to other_heights.\n",
    "\n",
    ">Print out the median height of the goalkeepers using np.median(). Replace None with the correct code.\n",
    "\n",
    ">Do the same for the other players. Print out their median height. \n",
    "\n",
    ">Replace None with the correct code."
   ]
  },
  {
   "cell_type": "code",
   "execution_count": 23,
   "metadata": {
    "collapsed": false
   },
   "outputs": [],
   "source": [
    "# heights and positions are available as lists\n",
    "\n",
    "# Import numpy\n",
    "import numpy as np\n",
    "\n",
    "# Convert positions and heights to numpy arrays: np_positions, np_heights\n",
    "#np_positions = np.array(positions)\n",
    "np_heights = np.array(height)\n",
    "\n",
    "# Heights of the goalkeepers: gk_heights\n",
    "#gk_heights = np_heights[np_positions == 'GK']\n",
    "\n",
    "# Heights of the other players: other_heights\n",
    "#other_heights = np_heights[np_positions != 'GK']\n",
    "\n",
    "# Print out the median height of goalkeepers. Replace 'None'\n",
    "#print(\"Median height of goalkeepers: \" + str(np.median(gk_heights)))\n",
    "\n",
    "# Print out the median height of other players. Replace 'None'\n",
    "#print(\"Median height of other players: \" + str(np.median(other_heights)))"
   ]
  },
  {
   "cell_type": "markdown",
   "metadata": {
    "collapsed": true
   },
   "source": [
    "## L. Basic Plots with matplotlib"
   ]
  },
  {
   "cell_type": "markdown",
   "metadata": {},
   "source": [
    "### 1. Line plot (1)\n",
    "\n",
    "With matplotlib, you can create a bunch of different plots in Python. The most basic plot is the line plot. A general recipe is given here.\n",
    "\n",
    "    import matplotlib.pyplot as plt\n",
    "    plt.plot(x,y)\n",
    "    plt.show()\n",
    "In the video, you already saw how much the world population has grown over the past years. Will it continue to do so? The world bank has estimates of the world population for the years 1950 up to 2100. The years are loaded in your workspace as a list called year, and the corresponding populations as a list called pop."
   ]
  },
  {
   "cell_type": "markdown",
   "metadata": {},
   "source": [
    "#### Exercise 1\n",
    "\n",
    ">print() the last item from both the year and the pop list to see what the predicted population for the year 2100 is.\n",
    "\n",
    ">Before you can start, you should import matplotlib.pyplot as plt. pyplot is a sub-package of matplotlib, hence the dot.\n",
    "\n",
    ">Use plt.plot() to build a line plot. year should be mapped on the horizontal axis, pop on the vertical axis. Don't forget to finish off with the show() function to actually display the plot."
   ]
  },
  {
   "cell_type": "code",
   "execution_count": 25,
   "metadata": {
    "collapsed": false
   },
   "outputs": [
    {
     "data": {
      "image/png": "[encoded data removed]",
      "text/plain": [
       "<matplotlib.figure.Figure at 0x15d645eff28>"
      ]
     },
     "metadata": {},
     "output_type": "display_data"
    }
   ],
   "source": [
    "# Print the last item from year and pop\n",
    "#print(year[-1])\n",
    "#print(pop[-1])\n",
    "\n",
    "# Import matplotlib.pyplot as plt\n",
    "import matplotlib.pyplot as plt\n",
    "\n",
    "# Make a line plot: year on the x-axis, pop on the y-axis\n",
    "#plt.plot(year,pop)\n",
    "#plt.show()\n",
    "\n",
    "# Since no data for pop and year, height and weight will be use to plot\n",
    "\n",
    "plt.plot(height,weight)\n",
    "plt.show()"
   ]
  },
  {
   "cell_type": "markdown",
   "metadata": {},
   "source": [
    "### 2. Scatter Plot (1)\n",
    "\n",
    "When you have a time scale along the horizontal axis, the line plot is your friend. But in many other cases, when you're trying to assess if there's a correlation between two variables, for example, the scatter plot is the better choice. Below is an example of how to build a scatter plot.\n",
    "\n",
    "    import matplotlib.pyplot as plt\n",
    "    plt.scatter(x,y)\n",
    "    plt.show()\n"
   ]
  },
  {
   "cell_type": "markdown",
   "metadata": {},
   "source": [
    "#### Exercise 2\n",
    ">Scatter Plot Same for the height, weight, and bmi lists."
   ]
  },
  {
   "cell_type": "code",
   "execution_count": 27,
   "metadata": {
    "collapsed": false
   },
   "outputs": [
    {
     "data": {
      "image/png": "[encoded data removed]",
      "text/plain": [
       "<matplotlib.figure.Figure at 0x15d642345f8>"
      ]
     },
     "metadata": {},
     "output_type": "display_data"
    },
    {
     "data": {
      "image/png": "[encoded data removed]",
      "text/plain": [
       "<matplotlib.figure.Figure at 0x15d64144cf8>"
      ]
     },
     "metadata": {},
     "output_type": "display_data"
    },
    {
     "data": {
      "image/png": "[encoded data removed]",
      "text/plain": [
       "<matplotlib.figure.Figure at 0x15d64533e80>"
      ]
     },
     "metadata": {},
     "output_type": "display_data"
    }
   ],
   "source": [
    "# Import matplotlib.pyplot as plt\n",
    "import matplotlib.pyplot as plt\n",
    "\n",
    "plt.scatter(height,weight)\n",
    "plt.show()\n",
    "\n",
    "plt.scatter(height,bmi)\n",
    "plt.show()\n",
    "\n",
    "plt.scatter(weight,bmi)\n",
    "plt.show()"
   ]
  },
  {
   "cell_type": "markdown",
   "metadata": {},
   "source": [
    "## M. Histograms"
   ]
  },
  {
   "cell_type": "markdown",
   "metadata": {},
   "source": [
    "### 1. Build a histogram"
   ]
  },
  {
   "cell_type": "markdown",
   "metadata": {},
   "source": [
    "#### Exercise 1\n",
    "> Use lists of height for histogram."
   ]
  },
  {
   "cell_type": "code",
   "execution_count": 10,
   "metadata": {
    "collapsed": false
   },
   "outputs": [
    {
     "data": {
      "image/png": "[encoded data removed]",
      "text/plain": [
       "<matplotlib.figure.Figure at 0x15d64393518>"
      ]
     },
     "metadata": {},
     "output_type": "display_data"
    }
   ],
   "source": [
    "plt.hist(height)\n",
    "\n",
    "# Display histogram\n",
    "plt.show()"
   ]
  },
  {
   "cell_type": "markdown",
   "metadata": {},
   "source": [
    "### 2. Build a histogram (2): bins\n",
    "\n",
    "In the previous exercise, you didn't specify the number of bins. By default, Python sets the number of bins to 10 in that case. The number of bins is pretty important. Too little bins oversimplifies reality, which doesn't show you the details. Too much bins overcomplicates reality and doesn't give the bigger picture.\n",
    "\n",
    "To control the number of bins to divide your data in, you can set the bins argument.\n",
    "\n",
    "That's exactly what you'll do in this exercise. You'll be making two plots here. The code in the script already includes plt.show() and plt.clf() calls; plt.show() displays a plot; plt.clf() cleans it up again so you can start afresh."
   ]
  },
  {
   "cell_type": "markdown",
   "metadata": {},
   "source": [
    "#### Exercise 2\n",
    "> Use lists of height for histogram. (bins)"
   ]
  },
  {
   "cell_type": "code",
   "execution_count": 9,
   "metadata": {
    "collapsed": false
   },
   "outputs": [
    {
     "data": {
      "image/png": "[encoded data removed]",
      "text/plain": [
       "<matplotlib.figure.Figure at 0x15d641735f8>"
      ]
     },
     "metadata": {},
     "output_type": "display_data"
    },
    {
     "data": {
      "image/png": "[encoded data removed]",
      "text/plain": [
       "<matplotlib.figure.Figure at 0x15d642251d0>"
      ]
     },
     "metadata": {},
     "output_type": "display_data"
    }
   ],
   "source": [
    "plt.hist(height, bins = 5)\n",
    "\n",
    "# Display histogram\n",
    "plt.show()\n",
    "plt.clf()\n",
    "\n",
    "# Build histogram with 20 bins\n",
    "plt.hist(height, bins = 20)\n",
    "\n",
    "# Display histogram\n",
    "plt.show()\n",
    "plt.clf()\n"
   ]
  },
  {
   "cell_type": "markdown",
   "metadata": {},
   "source": [
    "## N. Customization"
   ]
  },
  {
   "cell_type": "markdown",
   "metadata": {},
   "source": [
    "### 1. Labels\n",
    "\n",
    "It's time to customize your own plot. This is the fun part, you will see your plot come to life!\n",
    "\n",
    "You're going to work on the scatter plot with world development data: GDP per capita on the x-axis (logarithmic scale), life expectancy on the y-axis. The code for this plot is available in the script.\n",
    "\n",
    "As a first step, let's add axis labels and a title to the plot. You can do this with the xlabel(), ylabel() and title() functions, available in matplotlib.pyplot. This sub-package is already imported as plt."
   ]
  },
  {
   "cell_type": "markdown",
   "metadata": {},
   "source": [
    "#### Exercise 1\n",
    ">The strings xlab and ylab are already set for you. Use these variables to set the label of the x- and y-axis.\n",
    "\n",
    ">The string title is also coded for you. Use it to add a title to the plot.\n",
    "\n",
    ">After these customizations, finish the script with plt.show() to actually display the plot.\n"
   ]
  },
  {
   "cell_type": "code",
   "execution_count": 13,
   "metadata": {
    "collapsed": false
   },
   "outputs": [
    {
     "data": {
      "image/png": "[encoded data removed]",
      "text/plain": [
       "<matplotlib.figure.Figure at 0x15d64199550>"
      ]
     },
     "metadata": {},
     "output_type": "display_data"
    }
   ],
   "source": [
    "# Basic scatter plot, log scale\n",
    "plt.scatter(height, weight)\n",
    " \n",
    "# Strings\n",
    "xlab = 'Weight in pounds'\n",
    "ylab = 'Height in inches'\n",
    "title = 'Height and Weight List of players'\n",
    "\n",
    "# Add axis labels\n",
    "plt.xlabel(xlab)\n",
    "plt.ylabel(ylab)\n",
    "\n",
    "# Add title\n",
    "plt.title(title)\n",
    "\n",
    "# After customizing, display the plot\n",
    "plt.show()"
   ]
  },
  {
   "cell_type": "markdown",
   "metadata": {},
   "source": [
    "### 2. Ticks\n",
    "\n",
    "The customizations you've coded up to now are available in the script, in a more concise form.\n",
    "\n",
    "In the video, Filip has demonstrated how you could control the y-ticks by specifying two arguments:\n",
    "\n",
    "    plt.yticks([0,1,2], [\"one\",\"two\",\"three\"])\n",
    "In this example, the ticks corresponding to the numbers 0, 1 and 2 will be replaced by one, two and tree, respectively.\n",
    "\n",
    "Let's do a similar thing for the x-axis of your world development chart, with the xticks() function. The tick values 1000, 10000 and 100000 should be replaced by 1k, 10k and 100k. To this end, two lists have already been created for you: tick_val and tick_lab."
   ]
  },
  {
   "cell_type": "markdown",
   "metadata": {},
   "source": [
    "#### Exercise 2\n",
    ">Use tick_val and tick_lab as inputs to the xticks() function to make the the plot more readable.\n",
    "\n",
    ">As usual, display the plot with plt.show() after you've added the customizations."
   ]
  },
  {
   "cell_type": "code",
   "execution_count": 17,
   "metadata": {
    "collapsed": false
   },
   "outputs": [
    {
     "data": {
      "image/png": "[encoded data removed]",
      "text/plain": [
       "<matplotlib.figure.Figure at 0x15d6436b278>"
      ]
     },
     "metadata": {},
     "output_type": "display_data"
    }
   ],
   "source": [
    "# Scatter plot\n",
    "plt.scatter(height,weight)\n",
    "\n",
    "# Previous customizations\n",
    "plt.xlabel('Weight in pounds')\n",
    "plt.ylabel('Height in inches')\n",
    "plt.title('Height and Weight Lists of Players')\n",
    "\n",
    "# Definition of tick_val and tick_lab\n",
    "tick_val = [60,65,70,75]\n",
    "tick_lab = ['60 lb','65 lb','70 lb', '75 lb']\n",
    "\n",
    "# Adapt the ticks on the x-axis\n",
    "plt.xticks(tick_val,tick_lab)\n",
    "\n",
    "# After customizing, display the plot\n",
    "plt.show()"
   ]
  },
  {
   "cell_type": "markdown",
   "metadata": {},
   "source": [
    "### 3. Sizes\n",
    "\n",
    "Right now, the scatter plot is just a cloud of blue dots, indistinguishable from each other. Let's change this. Wouldn't it be nice if the size of the dots corresponds to the weight?\n"
   ]
  },
  {
   "cell_type": "markdown",
   "metadata": {},
   "source": [
    "#### Exercise 3\n",
    ">Run the script to see how the plot changes.\n",
    "Looks good, but increasing the size of the bubbles will make things stand out more.\n",
    "Import the numpy package as np.\n",
    "Use np.array() to create a numpy array from the list. Call this Numpy array.\n",
    "Double the values in np.list by assigning np_list* 2 to np_list again. Because np_pop is a Numpy array, each array element will be doubled.\n",
    "Change the s argument inside plt.scatter() to be np_list instead of list."
   ]
  },
  {
   "cell_type": "code",
   "execution_count": 30,
   "metadata": {
    "collapsed": false
   },
   "outputs": [
    {
     "data": {
      "image/png": "[encoded data removed]",
      "text/plain": [
       "<matplotlib.figure.Figure at 0x15d64158978>"
      ]
     },
     "metadata": {},
     "output_type": "display_data"
    }
   ],
   "source": [
    "# Import numpy as np\n",
    "import numpy as np\n",
    "\n",
    "# Store pop as a numpy array: np_pop\n",
    "np_bmi = np.array(bmi)\n",
    "\n",
    "# Double np_pop\n",
    "np_bmi = np_bmi*2\n",
    "\n",
    "# Update: set s argument to np_pop\n",
    "plt.scatter(height, weight, s = np_bmi)\n",
    "\n",
    "# Previous customizations\n",
    "plt.xlabel('Weight in pounds')\n",
    "plt.ylabel('Height in inches')\n",
    "plt.title('Height and Weight Lists of Players')\n",
    "plt.xticks([60,65,70,75],['60 lb','65 lb','70 lb', '75 lb'])\n",
    "\n",
    "# Display the plot\n",
    "plt.show()"
   ]
  },
  {
   "cell_type": "markdown",
   "metadata": {},
   "source": [
    "### 4. Colors\n",
    "\n",
    "The code you've written up to now is available in the script on the right.\n",
    "\n",
    "The next step is making the plot more colorful! To do this, a list col has been created for you. It's a list with a color for each corresponding country, depending on the continent the country is part of.\n",
    "\n",
    "How did we make the list col you ask? The Gapminder data contains a list continent with the continent each country belongs to. A dictionary is constructed that maps continents onto colors:\n",
    "\n",
    "    dict = {'Asia':'red','Europe':'green','Africa':'blue','Americas':'yellow','Oceania':'black'}\n",
    "Nothing to worry about now; you will learn about dictionaries in the next chapter."
   ]
  },
  {
   "cell_type": "markdown",
   "metadata": {},
   "source": [
    "#### Exercise 4\n",
    ">Add c = col to the arguments of the plt.scatter() function.\n",
    "Change the opacity of the bubbles by setting the alpha argument to 0.8 inside plt.scatter(). Alpha can be set from zero to one, where zero totally transparant, and one is not transparant."
   ]
  },
  {
   "cell_type": "code",
   "execution_count": 37,
   "metadata": {
    "collapsed": false
   },
   "outputs": [
    {
     "data": {
      "image/png": "[encoded data removed]",
      "text/plain": [
       "<matplotlib.figure.Figure at 0x15d63b850b8>"
      ]
     },
     "metadata": {},
     "output_type": "display_data"
    }
   ],
   "source": [
    "# Specify c and alpha inside plt.scatter()\n",
    "plt.scatter(height,weight, s = np.array(bmi)*2, c = \"r\", alpha = 0.8)\n",
    "\n",
    "# Previous customizations\n",
    "plt.xlabel('Weight in pounds')\n",
    "plt.ylabel('Height in inches')\n",
    "plt.title('Height and Weight Lists of Players')\n",
    "plt.xticks([60,65,70,75],['60 lb','65 lb','70 lb','75 lb'])\n",
    "\n",
    "# Show the plot\n",
    "plt.show()"
   ]
  },
  {
   "cell_type": "markdown",
   "metadata": {},
   "source": [
    "## O. Boolean Logic & Control Flow"
   ]
  },
  {
   "cell_type": "markdown",
   "metadata": {},
   "source": [
    "### 1. Equality\n",
    "\n",
    "To check if two Python values, or variables, are equal, you can use ==. To check for inequality, you need !=. As a refresher, have a look at the following examples, that all result in True. Feel free to try them out in the IPython Shell.\n",
    "\n",
    "    2 == (1 + 1)\n",
    "    \"intermediate\" != \"python\"\n",
    "    True != False\n",
    "    \"Python\" != \"python\"\n",
    "When you write these comparisons in a script, you will need to wrap a print() function around them, to see the output."
   ]
  },
  {
   "cell_type": "markdown",
   "metadata": {},
   "source": [
    "#### Exercise 1\n",
    ">In the editor on the right, write code to see if True equals False.\n",
    "\n",
    ">Write Python code to check if -5 * 15 is not equal to 75.\n",
    "Ask Python whether the strings \"pyscript\" and \"PyScript\" are equal.\n",
    "\n",
    ">What happens if you compare booleans and integers? Write code to see if True and 1 a"
   ]
  },
  {
   "cell_type": "code",
   "execution_count": 38,
   "metadata": {
    "collapsed": false
   },
   "outputs": [
    {
     "name": "stdout",
     "output_type": "stream",
     "text": [
      "False\n",
      "True\n",
      "False\n",
      "True\n"
     ]
    }
   ],
   "source": [
    "# Comparison of booleans\n",
    "print(True == False)\n",
    "\n",
    "# Comparison of integers\n",
    "print((-5*15) != 75)\n",
    "\n",
    "# Comparison of strings\n",
    "print(\"pyscript\" == \"PyScript\")\n",
    "\n",
    "# Compare a boolean with an integer\n",
    "print(True == 1)"
   ]
  },
  {
   "cell_type": "markdown",
   "metadata": {},
   "source": [
    "### 2. Greater and less than\n",
    "\n",
    "In the video, Filip also talked about the less than and greater than signs, < and > in Python. You can combine them with an equals sign: <= and >=. Pay attention: <= is valid syntax, =< is not.\n",
    "\n",
    "All Python expressions in the following code chunk evaluate to True:\n",
    "\n",
    "    3 < 4\n",
    "    3 <= 4\n",
    "    \"alpha\" <= \"beta\"\n",
    "\n",
    "Remember that for string comparison, Python determines the relationship based on alphabetical order."
   ]
  },
  {
   "cell_type": "markdown",
   "metadata": {},
   "source": [
    "#### Exercise 2\n",
    ">Write Python expressions, wrapped in a print() function, to check whether: - x is greater than or equal to -10. x has already been defined for you. - \"test\" is less than or equal to y. y has already been deinfed for you. - True is greater than False."
   ]
  },
  {
   "cell_type": "code",
   "execution_count": 39,
   "metadata": {
    "collapsed": false
   },
   "outputs": [
    {
     "name": "stdout",
     "output_type": "stream",
     "text": [
      "False\n",
      "True\n",
      "True\n"
     ]
    }
   ],
   "source": [
    "# Comparison of integers\n",
    "x = -3 * 6\n",
    "\n",
    "# Comparison of strings\n",
    "y = \"test\"\n",
    "\n",
    "# Comparison of booleans\n",
    "print(x >= -10)\n",
    "print(\"test\" <= y)\n",
    "print(True > False)"
   ]
  },
  {
   "cell_type": "markdown",
   "metadata": {},
   "source": [
    "### 3. and, or, not (1)\n",
    "\n",
    "A boolean is either 1 or 0, True or False. With boolean operators, such as and, or and not, you can combine these booleans to perform more advanced queries on your data.\n",
    "\n",
    "In the sample code on the right, two variables are defined: my_kitchen and your_kitchen, representing areas."
   ]
  },
  {
   "cell_type": "markdown",
   "metadata": {},
   "source": [
    "#### Exercise 3\n",
    ">Write Python expressions, wrapped in a print() function, to check whether: - my_kitchen is bigger than 10 and smaller than 18. - my_kitchen is smaller than 14 or bigger than 17. - double the area of my_kitchen is smaller than triple the area of your_kitchen."
   ]
  },
  {
   "cell_type": "code",
   "execution_count": 40,
   "metadata": {
    "collapsed": false
   },
   "outputs": [
    {
     "name": "stdout",
     "output_type": "stream",
     "text": [
      "False\n",
      "True\n",
      "True\n"
     ]
    }
   ],
   "source": [
    "# Define variables\n",
    "my_kitchen = 18.0\n",
    "your_kitchen = 14.0\n",
    "\n",
    "# my_kitchen bigger than 10 and smaller than 18?\n",
    "print (my_kitchen > 10 and my_kitchen < 18)\n",
    "\n",
    "# my_kitchen smaller than 14 or bigger than 17?\n",
    "print (my_kitchen < 14 or my_kitchen > 17)\n",
    "\n",
    "# Double my_kitchen smaller than triple your_kitchen?\n",
    "print (my_kitchen * 2 < your_kitchen * 3)"
   ]
  },
  {
   "cell_type": "markdown",
   "metadata": {},
   "source": [
    "### 3. if\n",
    "\n",
    "It's time to take a closer look around in your house.\n",
    "\n",
    "Two variables are defined in the sample code: room, a string that tells you which room of the house we're looking at, and area, the area of that room."
   ]
  },
  {
   "cell_type": "markdown",
   "metadata": {},
   "source": [
    "#### Exercise 3\n",
    ">Examine the if statement that prints out \"Looking around in the kitchen.\" if room equals \"kit\".\n",
    "\n",
    ">Write another if statement that prints out \"big place!\" if area is greater than 15."
   ]
  },
  {
   "cell_type": "code",
   "execution_count": 41,
   "metadata": {
    "collapsed": false
   },
   "outputs": [
    {
     "name": "stdout",
     "output_type": "stream",
     "text": [
      "looking around in the kitchen.\n"
     ]
    }
   ],
   "source": [
    "# Define variables\n",
    "room = \"kit\"\n",
    "area = 14.0\n",
    "\n",
    "# if statement for room\n",
    "if room == \"kit\" :\n",
    "    print(\"looking around in the kitchen.\")\n",
    "\n",
    "# if statement for area\n",
    "if area > 15:\n",
    "    print(\"big place!\")"
   ]
  },
  {
   "cell_type": "markdown",
   "metadata": {},
   "source": [
    "### 4. Add else\n",
    "\n",
    "On the right, the if construct for room has been extended with an else statement so that \"looking around elsewhere.\" is printed if the condition room = \"kit\" evaluates to False.\n",
    "\n",
    "Can you do a similar thing to add more functionality to the if construct for area?"
   ]
  },
  {
   "cell_type": "markdown",
   "metadata": {},
   "source": [
    "#### Exercise 4\n",
    ">Add an else statement to the second control structure so that \"pretty small.\" is printed out if area > 15 evaluates to False."
   ]
  },
  {
   "cell_type": "code",
   "execution_count": 42,
   "metadata": {
    "collapsed": false
   },
   "outputs": [
    {
     "name": "stdout",
     "output_type": "stream",
     "text": [
      "looking around in the kitchen.\n",
      "pretty small.\n"
     ]
    }
   ],
   "source": [
    "# Define variables\n",
    "room = \"kit\"\n",
    "area = 14.0\n",
    "\n",
    "# if-else construct for room\n",
    "if room == \"kit\" :\n",
    "    print(\"looking around in the kitchen.\")\n",
    "else :\n",
    "    print(\"looking around elsewhere.\")\n",
    "\n",
    "# if-else construct for area\n",
    "if area > 15 :\n",
    "    print(\"big place!\")\n",
    "else:\n",
    "    print(\"pretty small.\")"
   ]
  },
  {
   "cell_type": "markdown",
   "metadata": {},
   "source": [
    "### 5. Customize further: elif\n",
    "\n",
    "It's also possible to have a look around in the bedroom: the sample code contains an elif part that checks if room equals \"bed\". In that case, \"looking around in the bedroom.\" is printed out.\n",
    "\n",
    "Up to you now: make a similar addition to the second control structure to further customize the messages for different values of area."
   ]
  },
  {
   "cell_type": "markdown",
   "metadata": {},
   "source": [
    "#### Exercise 5\n",
    ">Add an elif to the second control structure such that \"medium size, nice!\" is printed out if area is greater than 10."
   ]
  },
  {
   "cell_type": "code",
   "execution_count": 43,
   "metadata": {
    "collapsed": false
   },
   "outputs": [
    {
     "name": "stdout",
     "output_type": "stream",
     "text": [
      "looking around in the bedroom.\n",
      "medium size, nice\n"
     ]
    }
   ],
   "source": [
    "# Define variables\n",
    "room = \"bed\"\n",
    "area = 14.0\n",
    "\n",
    "# if-elif-else construct for room\n",
    "if room == \"kit\" :\n",
    "    print(\"looking around in the kitchen.\")\n",
    "elif room == \"bed\":\n",
    "    print(\"looking around in the bedroom.\")\n",
    "else :\n",
    "    print(\"looking around elsewhere.\")\n",
    "\n",
    "# if-elif-else construct for area\n",
    "if area > 15 :\n",
    "    print(\"big place!\")\n",
    "elif area > 10 :\n",
    "    print(\"medium size, nice\")\n",
    "else :\n",
    "    print(\"pretty small.\")"
   ]
  },
  {
   "cell_type": "markdown",
   "metadata": {},
   "source": [
    "## P. Pandas"
   ]
  },
  {
   "cell_type": "markdown",
   "metadata": {},
   "source": [
    "### 1. CSV to DataFrame (1)\n",
    "\n",
    "The DataFrame is one of Pandas' most important data structures. It's basically a way to store tabular data, where you can label the rows and the columns."
   ]
  },
  {
   "cell_type": "markdown",
   "metadata": {},
   "source": [
    "#### Exercise 1\n",
    ">To import CSV files, you still need the pandas package: import it as pd.\n",
    "\n",
    ">Use pd.read_csv() to import csv data as a DataFrame. Store this dataframe.\n",
    "\n",
    ">Print out data. Does everything look OK?"
   ]
  },
  {
   "cell_type": "code",
   "execution_count": 44,
   "metadata": {
    "collapsed": false
   },
   "outputs": [
    {
     "name": "stdout",
     "output_type": "stream",
     "text": [
      "     Height (in)  Weight(lb)\n",
      "0          65.78      112.99\n",
      "1          71.52      136.49\n",
      "2          69.40      153.03\n",
      "3          68.22      142.34\n",
      "4          67.79      144.30\n",
      "5          68.70      123.30\n",
      "6          69.80      141.49\n",
      "7          70.01      136.46\n",
      "8          67.90      112.37\n",
      "9          66.78      120.67\n",
      "10         66.49      127.45\n",
      "11         67.62      114.14\n",
      "12         68.30      125.61\n",
      "13         67.12      122.46\n",
      "14         68.28      116.09\n",
      "15         71.09      140.00\n",
      "16         66.46      129.50\n",
      "17         68.65      142.97\n",
      "18         71.23      137.90\n",
      "19         67.13      124.04\n",
      "20         67.83      141.28\n",
      "21         68.88      143.54\n",
      "22         63.48       97.90\n",
      "23         68.42      129.50\n",
      "24         67.63      141.85\n",
      "25         67.21      129.72\n",
      "26         70.84      142.42\n",
      "27         67.49      131.55\n",
      "28         66.53      108.33\n",
      "29         65.44      113.89\n",
      "..           ...         ...\n",
      "170        69.43      122.61\n",
      "171        67.97      124.21\n",
      "172        67.76      124.65\n",
      "173        65.28      119.52\n",
      "174        73.83      139.30\n",
      "175        66.81      104.83\n",
      "176        66.89      123.04\n",
      "177        65.74      118.89\n",
      "178        65.98      121.49\n",
      "179        66.58      119.25\n",
      "180        67.11      135.02\n",
      "181        65.87      116.23\n",
      "182        66.78      109.17\n",
      "183        68.74      124.22\n",
      "184        66.23      141.16\n",
      "185        65.96      129.15\n",
      "186        68.58      127.87\n",
      "187        66.59      120.92\n",
      "188        66.97      127.65\n",
      "189        68.08      101.47\n",
      "190        70.19      144.99\n",
      "191        65.52      110.95\n",
      "192        67.46      132.86\n",
      "193        67.41      146.34\n",
      "194        69.66      145.59\n",
      "195        65.80      120.84\n",
      "196        66.11      115.78\n",
      "197        68.24      128.30\n",
      "198        68.02      127.47\n",
      "199        71.39      127.88\n",
      "\n",
      "[200 rows x 2 columns]\n"
     ]
    }
   ],
   "source": [
    "# Import pandas as pd\n",
    "import pandas as pd\n",
    "\n",
    "# Import the MLB.csv data: cars\n",
    "mlb = pd.read_csv(\"MLB.csv\")\n",
    "\n",
    "# Print out mlb\n",
    "print(mlb)"
   ]
  },
  {
   "cell_type": "markdown",
   "metadata": {},
   "source": [
    "### 2. CSV to DataFrame (2)\n",
    "\n",
    "Your read_csv() call to import the CSV data didn't generate an error, but the output is not entirely what you'd want: the row labels are imported as another column, that has no name.\n",
    "\n",
    "Remember index_col, an argument of read_csv() that you can use to specify which column in the CSV file should be used as a row label? Well, that's exactly what you need here!"
   ]
  },
  {
   "cell_type": "markdown",
   "metadata": {},
   "source": [
    "#### Exercise 2\n",
    ">Run the code with Submit Answer and assert that the first column should actually be used as row labels.\n",
    "\n",
    ">Specify the index_col argument inside pd.read_csv(): set it to 0, so that the first column is used as row labels.\n",
    "\n",
    ">Has the printout of cars improved now?"
   ]
  },
  {
   "cell_type": "code",
   "execution_count": 45,
   "metadata": {
    "collapsed": false
   },
   "outputs": [
    {
     "name": "stdout",
     "output_type": "stream",
     "text": [
      "             Weight(lb)\n",
      "Height (in)            \n",
      "65.78            112.99\n",
      "71.52            136.49\n",
      "69.40            153.03\n",
      "68.22            142.34\n",
      "67.79            144.30\n",
      "68.70            123.30\n",
      "69.80            141.49\n",
      "70.01            136.46\n",
      "67.90            112.37\n",
      "66.78            120.67\n",
      "66.49            127.45\n",
      "67.62            114.14\n",
      "68.30            125.61\n",
      "67.12            122.46\n",
      "68.28            116.09\n",
      "71.09            140.00\n",
      "66.46            129.50\n",
      "68.65            142.97\n",
      "71.23            137.90\n",
      "67.13            124.04\n",
      "67.83            141.28\n",
      "68.88            143.54\n",
      "63.48             97.90\n",
      "68.42            129.50\n",
      "67.63            141.85\n",
      "67.21            129.72\n",
      "70.84            142.42\n",
      "67.49            131.55\n",
      "66.53            108.33\n",
      "65.44            113.89\n",
      "...                 ...\n",
      "69.43            122.61\n",
      "67.97            124.21\n",
      "67.76            124.65\n",
      "65.28            119.52\n",
      "73.83            139.30\n",
      "66.81            104.83\n",
      "66.89            123.04\n",
      "65.74            118.89\n",
      "65.98            121.49\n",
      "66.58            119.25\n",
      "67.11            135.02\n",
      "65.87            116.23\n",
      "66.78            109.17\n",
      "68.74            124.22\n",
      "66.23            141.16\n",
      "65.96            129.15\n",
      "68.58            127.87\n",
      "66.59            120.92\n",
      "66.97            127.65\n",
      "68.08            101.47\n",
      "70.19            144.99\n",
      "65.52            110.95\n",
      "67.46            132.86\n",
      "67.41            146.34\n",
      "69.66            145.59\n",
      "65.80            120.84\n",
      "66.11            115.78\n",
      "68.24            128.30\n",
      "68.02            127.47\n",
      "71.39            127.88\n",
      "\n",
      "[200 rows x 1 columns]\n"
     ]
    }
   ],
   "source": [
    "# Import pandas as pd\n",
    "import pandas as pd\n",
    "\n",
    "# Import the MLB.csv data: cars\n",
    "mlb = pd.read_csv(\"MLB.csv\",index_col=0)\n",
    "\n",
    "# Print out mlb\n",
    "print(mlb)"
   ]
  },
  {
   "cell_type": "markdown",
   "metadata": {},
   "source": [
    "### 3. Square Brackets\n",
    "\n",
    "In the video, you saw that you can index and select Pandas DataFrames in many different ways. The simplest, but not the most powerful way, is to use square brackets."
   ]
  },
  {
   "cell_type": "markdown",
   "metadata": {},
   "source": [
    "#### Exercise 3\n",
    ">Use single square brackets to print out the country column of mlb as a Pandas Series.\n",
    "Use double square brackets to print out the country column of mlb as a Pandas DataFrame. Do this by putting height in two square brackets this time."
   ]
  },
  {
   "cell_type": "code",
   "execution_count": 66,
   "metadata": {
    "collapsed": false
   },
   "outputs": [
    {
     "name": "stdout",
     "output_type": "stream",
     "text": [
      "Float64Index([65.78, 71.52,  69.4, 68.22, 67.79,  68.7,  69.8, 70.01,  67.9,\n",
      "              66.78,\n",
      "              ...\n",
      "              70.19, 65.52, 67.46, 67.41, 69.66,  65.8, 66.11, 68.24, 68.02,\n",
      "              71.39],\n",
      "             dtype='float64', name='Height (in)', length=200)\n"
     ]
    }
   ],
   "source": [
    "# Import pandas as pd\n",
    "import pandas as pd\n",
    "\n",
    "# Import the MLB.csv data \n",
    "mlb = pd.read_csv(\"MLB.csv\",index_col=0)\n",
    "print(mlb.index)\n",
    "# Print out height column as Pandas Series\n",
    "#print (mlb['Height (in)'])\n",
    "\n",
    "# Print out height column as Pandas DataFrame\n",
    "#print (mlb[['Height (in)']])"
   ]
  },
  {
   "cell_type": "code",
   "execution_count": null,
   "metadata": {
    "collapsed": true
   },
   "outputs": [],
   "source": []
  }
 ],
 "metadata": {
  "kernelspec": {
   "display_name": "Python 3",
   "language": "python",
   "name": "python3"
  },
  "language_info": {
   "codemirror_mode": {
    "name": "ipython",
    "version": 3
   },
   "file_extension": ".py",
   "mimetype": "text/x-python",
   "name": "python",
   "nbconvert_exporter": "python",
   "pygments_lexer": "ipython3",
   "version": "3.6.3"
  }
 },
 "nbformat": 4,
 "nbformat_minor": 2
}
