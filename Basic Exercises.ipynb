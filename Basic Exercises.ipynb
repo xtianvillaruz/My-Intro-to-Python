{
 "cells": [
  {
   "cell_type": "markdown",
   "metadata": {},
   "source": [
    "# PYTHON BASIC EXERCISES"
   ]
  },
  {
   "cell_type": "markdown",
   "metadata": {},
   "source": [
    "These exercises was taken from my online course in Introduction to Python (Coursera.org)"
   ]
  },
  {
   "cell_type": "markdown",
   "metadata": {},
   "source": [
    "#### Exercise 1"
   ]
  },
  {
   "cell_type": "code",
   "execution_count": 1,
   "metadata": {
    "collapsed": true
   },
   "outputs": [],
   "source": [
    "# Hello World\n",
    "\n",
    "def hello():\n",
    "    print (\"Hello World\")"
   ]
  },
  {
   "cell_type": "code",
   "execution_count": 4,
   "metadata": {
    "collapsed": false
   },
   "outputs": [
    {
     "name": "stdout",
     "output_type": "stream",
     "text": [
      "Hello World\n"
     ]
    }
   ],
   "source": [
    "hello()"
   ]
  },
  {
   "cell_type": "markdown",
   "metadata": {},
   "source": [
    "#### Exercise 2"
   ]
  },
  {
   "cell_type": "code",
   "execution_count": 16,
   "metadata": {
    "collapsed": false
   },
   "outputs": [],
   "source": [
    "# Compute the area of a circle\n",
    "\n",
    "def areacircle(radius):\n",
    "    area = 3/4*radius**2\n",
    "    print (\" area = \", area)"
   ]
  },
  {
   "cell_type": "code",
   "execution_count": 17,
   "metadata": {
    "collapsed": false
   },
   "outputs": [
    {
     "name": "stdout",
     "output_type": "stream",
     "text": [
      " area =  108.0\n"
     ]
    }
   ],
   "source": [
    "areacircle(12)"
   ]
  },
  {
   "cell_type": "code",
   "execution_count": 18,
   "metadata": {
    "collapsed": false
   },
   "outputs": [
    {
     "name": "stdout",
     "output_type": "stream",
     "text": [
      " area =  18.75\n"
     ]
    }
   ],
   "source": [
    "areacircle(5)"
   ]
  },
  {
   "cell_type": "markdown",
   "metadata": {},
   "source": [
    "#### Exercise 3"
   ]
  },
  {
   "cell_type": "code",
   "execution_count": 20,
   "metadata": {
    "collapsed": true
   },
   "outputs": [],
   "source": [
    "# compute the area of a triangle\n",
    "\n",
    "def areatriangle(b,h):\n",
    "    area = (b*h)/2\n",
    "    print(\"The area of a triangle with the base of\", b, \"and the height of\", h, \"is\", area)"
   ]
  },
  {
   "cell_type": "code",
   "execution_count": 21,
   "metadata": {
    "collapsed": false
   },
   "outputs": [
    {
     "name": "stdout",
     "output_type": "stream",
     "text": [
      "The area of a triangle with the base of 2 and the height of 3 is 3.0\n"
     ]
    }
   ],
   "source": [
    "areatriangle(2,3)"
   ]
  },
  {
   "cell_type": "markdown",
   "metadata": {
    "collapsed": true
   },
   "source": [
    "#### Exercise 4"
   ]
  },
  {
   "cell_type": "code",
   "execution_count": 2,
   "metadata": {
    "collapsed": true
   },
   "outputs": [],
   "source": [
    "# Temperature Conversion \n",
    "\n",
    "def fahrenheit_to_celcius(T):\n",
    "    C = 5*(T-32)/9\n",
    "    print (\"The Fahrenheit temperature of\",T, \"is equevalent to\", C, \"degree Celcius\")\n",
    "    \n",
    "def celcius_to_fahrenheit(T):\n",
    "    F = (9/5)*T + 32\n",
    "    print (\"The Celcius temperature of\",T, \"is equevalent to\", F, \"degree Fahrenheit\")\n",
    "    "
   ]
  },
  {
   "cell_type": "code",
   "execution_count": 5,
   "metadata": {
    "collapsed": false
   },
   "outputs": [
    {
     "name": "stdout",
     "output_type": "stream",
     "text": [
      "The Fahrenheit temperature of 100 is equevalent to 37.77777777777778 degree Celcius\n"
     ]
    }
   ],
   "source": [
    "fahrenheit_to_celcius(100)"
   ]
  },
  {
   "cell_type": "code",
   "execution_count": 6,
   "metadata": {
    "collapsed": false
   },
   "outputs": [
    {
     "name": "stdout",
     "output_type": "stream",
     "text": [
      "The Celcius temperature of 100 is equevalent to 212.0 degree Fahrenheit\n"
     ]
    }
   ],
   "source": [
    "celcius_to_fahrenheit(100)"
   ]
  },
  {
   "cell_type": "markdown",
   "metadata": {},
   "source": [
    "#### Exercise 5"
   ]
  },
  {
   "cell_type": "code",
   "execution_count": 11,
   "metadata": {
    "collapsed": true
   },
   "outputs": [],
   "source": [
    "# Input first name and last name, combine to onstring and print\n",
    "\n",
    "def name():\n",
    "    firstname = input(\"Enter your First Name:\")\n",
    "    lastname = input(\"Enter your Last Name:\")\n",
    "    fullname = firstname + \" \"+ lastname\n",
    "    print(\"Your name is \", fullname)"
   ]
  },
  {
   "cell_type": "code",
   "execution_count": 12,
   "metadata": {
    "collapsed": false
   },
   "outputs": [
    {
     "name": "stdout",
     "output_type": "stream",
     "text": [
      "Enter your First Name:James\n",
      "Enter your Last Name:Jones\n",
      "Your name is  James Jones\n"
     ]
    }
   ],
   "source": [
    "name()"
   ]
  },
  {
   "cell_type": "markdown",
   "metadata": {},
   "source": [
    "#### Exercise 6"
   ]
  },
  {
   "cell_type": "code",
   "execution_count": 15,
   "metadata": {
    "collapsed": true
   },
   "outputs": [],
   "source": [
    "# Personal information containing your name and address\n",
    "\n",
    "def Personal_info():\n",
    "    firstname = input(\"Enter your First Name:\")\n",
    "    lastname = input(\"Enter your Last Name:\")\n",
    "    fullname = firstname + \" \"+ lastname\n",
    "    \n",
    "    city = input(\"Enter your City:\")\n",
    "    country = input(\"Enter your Country:\")\n",
    "    address = city + \",\"+ country\n",
    "    \n",
    "    print(\"Your name is \", fullname)\n",
    "    print(\"Your live in \", address)"
   ]
  },
  {
   "cell_type": "code",
   "execution_count": 16,
   "metadata": {
    "collapsed": false
   },
   "outputs": [
    {
     "name": "stdout",
     "output_type": "stream",
     "text": [
      "Enter your First Name:James\n",
      "Enter your Last Name:Jones\n",
      "Enter your City:New York\n",
      "Enter your Country:USA\n",
      "Your name is  James Jones\n",
      "Your live in  New York,USA\n"
     ]
    }
   ],
   "source": [
    "Personal_info()"
   ]
  },
  {
   "cell_type": "markdown",
   "metadata": {},
   "source": [
    "#### Exercise 7"
   ]
  },
  {
   "cell_type": "code",
   "execution_count": 17,
   "metadata": {
    "collapsed": true
   },
   "outputs": [],
   "source": [
    "# if statement samples (if, if-else, if-elif, else)\n",
    "\n",
    "def if_statement():\n",
    "    \n",
    "    x = 5\n",
    "    y = 0\n",
    "    z = 0\n",
    "    \n",
    "    if x > 0:\n",
    "        print(\"x is positive\")\n",
    "    if y > 0:\n",
    "        print(\"y is positive\")\n",
    "    else:\n",
    "        print(\"y is not positive\")\n",
    "        \n",
    "    if z > 0:\n",
    "        print(\"z is positive\")\n",
    "    elif z < 0:\n",
    "        print (\"z is negative\")\n",
    "    else:\n",
    "        print(\"z must be 0\")\n"
   ]
  },
  {
   "cell_type": "code",
   "execution_count": 18,
   "metadata": {
    "collapsed": false
   },
   "outputs": [
    {
     "name": "stdout",
     "output_type": "stream",
     "text": [
      "x is positive\n",
      "y is not positive\n",
      "z must be 0\n"
     ]
    }
   ],
   "source": [
    "if_statement()"
   ]
  },
  {
   "cell_type": "markdown",
   "metadata": {},
   "source": [
    "#### Exercise 8"
   ]
  },
  {
   "cell_type": "code",
   "execution_count": 31,
   "metadata": {
    "collapsed": false
   },
   "outputs": [
    {
     "name": "stdout",
     "output_type": "stream",
     "text": [
      "x is equal to y: True\n",
      "x is not equal to y: False\n",
      "x is equal to z: False\n",
      "x is not equal to z: True\n"
     ]
    }
   ],
   "source": [
    "# Python uses \"=\" for assignment and \"==\" for testing equality. Also \"!=\" is used to test for non-equality.\n",
    "\n",
    "x = 5\n",
    "y = 5\n",
    "z = 6\n",
    "\n",
    "print(\"x is equal to y:\", x==y)\n",
    "print(\"x is not equal to y:\",x!=y)\n",
    "print(\"x is equal to z:\",x==z)\n",
    "print(\"x is not equal to z:\", x!=z)"
   ]
  },
  {
   "cell_type": "markdown",
   "metadata": {},
   "source": [
    "#### Exercise 9"
   ]
  },
  {
   "cell_type": "code",
   "execution_count": 58,
   "metadata": {
    "collapsed": true
   },
   "outputs": [],
   "source": [
    "# The following function uses an \"if\" statement. Note that the indentation marks the scope of the if, elif, else action.\n",
    "\n",
    "def area(type_, x):\n",
    "    \n",
    "    if type_ == \"circle\":\n",
    "        area = 3.1416*x**2\n",
    "        print(area)\n",
    "    elif type_ == \"square\":\n",
    "        area = x**2\n",
    "        print(area)\n",
    "    else:\n",
    "        print(\"I don't know that one.\")"
   ]
  },
  {
   "cell_type": "code",
   "execution_count": 56,
   "metadata": {
    "collapsed": false
   },
   "outputs": [
    {
     "name": "stdout",
     "output_type": "stream",
     "text": [
      "12.5664\n"
     ]
    }
   ],
   "source": [
    "area(\"circle\",2)"
   ]
  },
  {
   "cell_type": "code",
   "execution_count": 59,
   "metadata": {
    "collapsed": false
   },
   "outputs": [
    {
     "name": "stdout",
     "output_type": "stream",
     "text": [
      "4\n"
     ]
    }
   ],
   "source": [
    "area(\"square\",2)"
   ]
  },
  {
   "cell_type": "code",
   "execution_count": 60,
   "metadata": {
    "collapsed": false
   },
   "outputs": [
    {
     "name": "stdout",
     "output_type": "stream",
     "text": [
      "I don't know that one.\n"
     ]
    }
   ],
   "source": [
    "area(\"round\", 5)"
   ]
  },
  {
   "cell_type": "markdown",
   "metadata": {},
   "source": [
    "#### Exercise 10"
   ]
  },
  {
   "cell_type": "code",
   "execution_count": 61,
   "metadata": {
    "collapsed": true
   },
   "outputs": [],
   "source": [
    "# Write a function absolutevalue(num) that computes the absolute value of a number. You will need\n",
    "# to use an \"if\" statement. Remember if a number is less than zero then you must multuply by\n",
    "# -1 to make it greater than zero. Give output in the form:\n",
    "# \"The absolute value of -5 is 5.\n",
    "\n",
    "def absolutevalue(x):\n",
    "    \n",
    "    if x >= 0:\n",
    "        y = x\n",
    "    else:\n",
    "        y = -x\n",
    "    print(\"The absolute value of\", x, \"is\", y)"
   ]
  },
  {
   "cell_type": "code",
   "execution_count": 62,
   "metadata": {
    "collapsed": false
   },
   "outputs": [
    {
     "name": "stdout",
     "output_type": "stream",
     "text": [
      "The absolute value of -5 is 5\n"
     ]
    }
   ],
   "source": [
    "absolutevalue(-5)"
   ]
  },
  {
   "cell_type": "markdown",
   "metadata": {},
   "source": [
    "#### Exercise 11"
   ]
  },
  {
   "cell_type": "code",
   "execution_count": 73,
   "metadata": {
    "collapsed": false
   },
   "outputs": [],
   "source": [
    "# String to integer input sample.\n",
    "\n",
    "def TempConv():\n",
    "    \n",
    "    print (\"Temperature Conversion of Fahrenheit and Celcius\")\n",
    "    print()\n",
    "    T = input(\"Enter F if temperature is in Fahrenheit and C if in Celcius: \")\n",
    "    if T == \"F\":\n",
    "        t = input(\" Enter the temperature: \")\n",
    "        t1 = int(t)\n",
    "        t2 = 5*(t1-32)/9\n",
    "        print()\n",
    "        print(\"The Fahrenheit temperature of\", t1, \"is equal to\", t2, \"degree Celsius\")\n",
    "    \n",
    "    elif T == \"C\":\n",
    "        t = input(\" Enter the temperature: \")\n",
    "        t1 = int(t)\n",
    "        t2 = (9/5)*t1 + 32\n",
    "        print()\n",
    "        print(\"The Celsius temperature of\", t1, \"is equal to\", t2, \"degree Fahrenheit\")\n",
    "    else:\n",
    "        print()\n",
    "        print(\"Invalid input\")"
   ]
  },
  {
   "cell_type": "code",
   "execution_count": 75,
   "metadata": {
    "collapsed": false
   },
   "outputs": [
    {
     "name": "stdout",
     "output_type": "stream",
     "text": [
      "Temperature Conversion of Fahrenheit and Celcius\n",
      "\n",
      "Enter F if temperature is in Fahrenheit and C if in Celcius: F\n",
      " Enter the temperature: 100\n",
      "\n",
      "The Fahrenheit temperature of 100 is equal to 37.77777777777778 degree Celsius\n"
     ]
    }
   ],
   "source": [
    "TempConv()"
   ]
  },
  {
   "cell_type": "code",
   "execution_count": 76,
   "metadata": {
    "collapsed": false
   },
   "outputs": [
    {
     "name": "stdout",
     "output_type": "stream",
     "text": [
      "Temperature Conversion of Fahrenheit and Celcius\n",
      "\n",
      "Enter F if temperature is in Fahrenheit and C if in Celcius: C\n",
      " Enter the temperature: 100\n",
      "\n",
      "The Celsius temperature of 100 is equal to 212.0 degree Fahrenheit\n"
     ]
    }
   ],
   "source": [
    "TempConv()"
   ]
  },
  {
   "cell_type": "code",
   "execution_count": 77,
   "metadata": {
    "collapsed": false
   },
   "outputs": [
    {
     "name": "stdout",
     "output_type": "stream",
     "text": [
      "Temperature Conversion of Fahrenheit and Celcius\n",
      "\n",
      "Enter F if temperature is in Fahrenheit and C if in Celcius: c\n",
      "\n",
      "Invalid input\n"
     ]
    }
   ],
   "source": [
    "TempConv()"
   ]
  },
  {
   "cell_type": "markdown",
   "metadata": {},
   "source": [
    "#### Exercise 11"
   ]
  },
  {
   "cell_type": "code",
   "execution_count": 52,
   "metadata": {
    "collapsed": false
   },
   "outputs": [],
   "source": [
    "# Loop sample\n",
    "\n",
    "def countdown(x):\n",
    "    ct = x\n",
    "    while ct > 0:\n",
    "        print(ct, end=\",\")\n",
    "        ct = ct-1\n",
    "    print()\n",
    "    print(\"Finished\")"
   ]
  },
  {
   "cell_type": "code",
   "execution_count": 53,
   "metadata": {
    "collapsed": false
   },
   "outputs": [
    {
     "name": "stdout",
     "output_type": "stream",
     "text": [
      "50,49,48,47,46,45,44,43,42,41,40,39,38,37,36,35,34,33,32,31,30,29,28,27,26,25,24,23,22,21,20,19,18,17,16,15,14,13,12,11,10,9,8,7,6,5,4,3,2,1,\n",
      "Finished\n"
     ]
    }
   ],
   "source": [
    "countdown(50)"
   ]
  },
  {
   "cell_type": "markdown",
   "metadata": {
    "collapsed": true
   },
   "source": [
    "#### Exercise 12\n",
    "\n",
    "Take the following list, nlis, and compute its average. That is, write\n",
    "a function 'average(numlis)' that uses a 'for' loop to sum up the numbers\n",
    "in numlis and divide by the length of numlis. Just to be sure that you\n",
    "got all the numbers in numlis, print each one in your 'for' loop and \n",
    "print the length of the the list. When using a loop, one always needs to\n",
    "be careful that it loops as often as is expected. In this case also print out the number of items in the list.\n",
    "Caution: Do NOT use the variable nlis in your function. This function should work on any list of numbers. Just to be sure make sure that your function (without any changes) works on rlis as well as nlis. \n"
   ]
  },
  {
   "cell_type": "code",
   "execution_count": 1,
   "metadata": {
    "collapsed": true
   },
   "outputs": [],
   "source": [
    "nlis = [2,4,8,105,210,-3,47,8,33,1]  # average should by 41.5\n",
    "rlis = [3.14, 7.26, -4.76, 0, 8.24, 9.1, -100.7, 4] # average is -9.215"
   ]
  },
  {
   "cell_type": "code",
   "execution_count": 6,
   "metadata": {
    "collapsed": false
   },
   "outputs": [],
   "source": [
    "def average(numlis):\n",
    "    sum_ = 0\n",
    "    for i in range(0,len(numlis)):\n",
    "        sum_ = sum_ + numlis[i]\n",
    "        print(numlis[i])\n",
    "    average = sum_/len(numlis)\n",
    "    print(\"The average is \",average, \"and its count is \",len(numlis))\n",
    "    "
   ]
  },
  {
   "cell_type": "code",
   "execution_count": 7,
   "metadata": {
    "collapsed": false
   },
   "outputs": [
    {
     "name": "stdout",
     "output_type": "stream",
     "text": [
      "2\n",
      "4\n",
      "8\n",
      "105\n",
      "210\n",
      "-3\n",
      "47\n",
      "8\n",
      "33\n",
      "1\n",
      "The average is  41.5 and its count is  10\n"
     ]
    }
   ],
   "source": [
    "average(nlis)"
   ]
  },
  {
   "cell_type": "code",
   "execution_count": 8,
   "metadata": {
    "collapsed": false
   },
   "outputs": [
    {
     "name": "stdout",
     "output_type": "stream",
     "text": [
      "3.14\n",
      "7.26\n",
      "-4.76\n",
      "0\n",
      "8.24\n",
      "9.1\n",
      "-100.7\n",
      "4\n",
      "The average is  -9.215 and its count is  8\n"
     ]
    }
   ],
   "source": [
    "average(rlis)"
   ]
  },
  {
   "cell_type": "markdown",
   "metadata": {},
   "source": [
    "#### Exercise 13\n",
    "\n",
    "\n",
    "Let me emphasize that you can make a 'for' loop with just a list. \n",
    "One can simply step through a list to form the loop.\n",
    "\n",
    "In this example case it is a list of states and we will simply be stepping \n",
    "through the loop and printing out the states."
   ]
  },
  {
   "cell_type": "code",
   "execution_count": 9,
   "metadata": {
    "collapsed": true
   },
   "outputs": [],
   "source": [
    "newEngland = [\"Maine\",\"New Hampshire\",\"Vermont\", \"Rhodes Island\", \n",
    "\"Massachusetts\",\"Connecticut\"]"
   ]
  },
  {
   "cell_type": "code",
   "execution_count": 47,
   "metadata": {
    "collapsed": true
   },
   "outputs": [],
   "source": [
    "def for_state(slis):\n",
    "    for state in slis:\n",
    "        print(state, end=\"/\")"
   ]
  },
  {
   "cell_type": "code",
   "execution_count": 48,
   "metadata": {
    "collapsed": false
   },
   "outputs": [
    {
     "name": "stdout",
     "output_type": "stream",
     "text": [
      "Maine/New Hampshire/Vermont/Rhodes Island/Massachusetts/Connecticut/"
     ]
    }
   ],
   "source": [
    "for_state(newEngland)"
   ]
  },
  {
   "cell_type": "markdown",
   "metadata": {},
   "source": [
    "#### Exercise 14\n",
    "\n",
    "Write a function 'print_list(lis)' that prints items of the list lis. \n",
    "Test it by running the three tests that I give here. This requires writing \n",
    "a function that includes a loop like the one above, but uses lis for \n",
    "the iterator. Inside your function you should use lis to represent the \n",
    "list. If you do so, your function should pass all three tests below.\n"
   ]
  },
  {
   "cell_type": "code",
   "execution_count": 12,
   "metadata": {
    "collapsed": true
   },
   "outputs": [],
   "source": [
    "letter_list = ['a', 'b', 'c']\n",
    "cap_list = ['A', 'B', 'C', 'D']\n",
    "misc_list = ['ball', 3.14, -50, 'university', \"course\"]"
   ]
  },
  {
   "cell_type": "code",
   "execution_count": 13,
   "metadata": {
    "collapsed": true
   },
   "outputs": [],
   "source": [
    "def print_list(lis):\n",
    "    for i in lis:\n",
    "        print(i)"
   ]
  },
  {
   "cell_type": "code",
   "execution_count": 15,
   "metadata": {
    "collapsed": false
   },
   "outputs": [
    {
     "name": "stdout",
     "output_type": "stream",
     "text": [
      "a\n",
      "b\n",
      "c\n"
     ]
    }
   ],
   "source": [
    "print_list(letter_list)"
   ]
  },
  {
   "cell_type": "code",
   "execution_count": 16,
   "metadata": {
    "collapsed": false
   },
   "outputs": [
    {
     "name": "stdout",
     "output_type": "stream",
     "text": [
      "A\n",
      "B\n",
      "C\n",
      "D\n"
     ]
    }
   ],
   "source": [
    "print_list(cap_list)"
   ]
  },
  {
   "cell_type": "code",
   "execution_count": 17,
   "metadata": {
    "collapsed": false
   },
   "outputs": [
    {
     "name": "stdout",
     "output_type": "stream",
     "text": [
      "ball\n",
      "3.14\n",
      "-50\n",
      "university\n",
      "course\n"
     ]
    }
   ],
   "source": [
    "print_list(misc_list)"
   ]
  },
  {
   "cell_type": "markdown",
   "metadata": {},
   "source": [
    "#### Exercise 15\n",
    "\n",
    "Often you can convert one type to another: int(z1) makes and returns an \n",
    "integer (30); float(z2) returns a float or real number (40.0); str(y) \n",
    "returns the string \"3.14\"; etc. This is important because z1+z2 is not 70 \n",
    "(it is '3040'); however, int(z1)+int(z2) is 70. Here is a simple program \n",
    "showing when you might want to use this technique."
   ]
  },
  {
   "cell_type": "code",
   "execution_count": 22,
   "metadata": {
    "collapsed": true
   },
   "outputs": [],
   "source": [
    "def multiply():\n",
    "    numstr1 = input(\"Enter a number: \")\n",
    "    numstr2 = input(\"Enter another number: \")\n",
    "    num1 = float(numstr1)\n",
    "    num2 = float(numstr2)\n",
    "    print(\"Their product is \", num1 * num2)\n",
    "    # print(\"Won't work: \", numstr1 * numstr2)"
   ]
  },
  {
   "cell_type": "code",
   "execution_count": 23,
   "metadata": {
    "collapsed": false
   },
   "outputs": [
    {
     "name": "stdout",
     "output_type": "stream",
     "text": [
      "Enter a number: 1\n",
      "Enter another number: 2\n",
      "Their product is  2.0\n"
     ]
    }
   ],
   "source": [
    "multiply()"
   ]
  },
  {
   "cell_type": "markdown",
   "metadata": {},
   "source": [
    "#### Exercise 16\n",
    "\n",
    "List range sample"
   ]
  },
  {
   "cell_type": "code",
   "execution_count": 27,
   "metadata": {
    "collapsed": false
   },
   "outputs": [
    {
     "name": "stdout",
     "output_type": "stream",
     "text": [
      "[2, 5, 8, 11, 14, 17]\n",
      "range(2, 20, 3)\n"
     ]
    }
   ],
   "source": [
    "print(list(range(2,20,3)))\n",
    "print(range(2,20,3))"
   ]
  },
  {
   "cell_type": "code",
   "execution_count": 26,
   "metadata": {
    "collapsed": false
   },
   "outputs": [
    {
     "name": "stdout",
     "output_type": "stream",
     "text": [
      "12345678\n",
      "12 345 678\n"
     ]
    }
   ],
   "source": [
    "# Caution:Notice that large numbers never include commas. Compare these two\n",
    "# examples.In the second, Python thinks that it is printing 3 numbers not 1.\n",
    "\n",
    "print(12345678)\n",
    "print(12,345,678)  "
   ]
  },
  {
   "cell_type": "markdown",
   "metadata": {},
   "source": [
    "#### Exercise 17\n",
    "\n",
    "Before writing the function, let's understand this list of lists better.\n",
    "Try this out. \n",
    "\n",
    "What is the first item of newEngland? (i.e., the one of index 0)\n",
    "\n",
    "What is the second item?\n",
    "\n",
    "What is the name of the state in the second element? How do we get that?\n",
    "\n",
    "What is the population of the state in the second element?\n"
   ]
  },
  {
   "cell_type": "code",
   "execution_count": 28,
   "metadata": {
    "collapsed": true
   },
   "outputs": [],
   "source": [
    "NewEngland = [[\"Massachusetts\",6692824],[\"Connecticut\",3596080],\n",
    "              [\"Maine\",1328302],[\"New Hampshire\",1323459],\n",
    "              [\"Rhode Island\",1051511],[\"Vermont\",626630]]"
   ]
  },
  {
   "cell_type": "code",
   "execution_count": 30,
   "metadata": {
    "collapsed": false
   },
   "outputs": [
    {
     "name": "stdout",
     "output_type": "stream",
     "text": [
      "['Massachusetts', 6692824]\n",
      "['Connecticut', 3596080]\n",
      "\n",
      "population 3596080      name: Connecticut\n",
      "\n",
      "Connecticut\n",
      "3596080\n"
     ]
    }
   ],
   "source": [
    "print(NewEngland[0])\n",
    "print(NewEngland[1])\n",
    "print()\n",
    "state = NewEngland[1]\n",
    "print(\"population\",state[1],\"     name:\",state[0])\n",
    "print()\n",
    "print(NewEngland[1][0])\n",
    "print(NewEngland[1][1])"
   ]
  },
  {
   "cell_type": "code",
   "execution_count": 31,
   "metadata": {
    "collapsed": true
   },
   "outputs": [],
   "source": [
    "def report1(state_data):\n",
    "    print(\"Population            State\")\n",
    "    for state_item in state_data:\n",
    "        print(state_item[1],\"            \", state_item[0])"
   ]
  },
  {
   "cell_type": "code",
   "execution_count": 32,
   "metadata": {
    "collapsed": false
   },
   "outputs": [
    {
     "name": "stdout",
     "output_type": "stream",
     "text": [
      "Population            State\n",
      "6692824              Massachusetts\n",
      "3596080              Connecticut\n",
      "1328302              Maine\n",
      "1323459              New Hampshire\n",
      "1051511              Rhode Island\n",
      "626630              Vermont\n"
     ]
    }
   ],
   "source": [
    "report1(NewEngland)"
   ]
  },
  {
   "cell_type": "code",
   "execution_count": 33,
   "metadata": {
    "collapsed": true
   },
   "outputs": [],
   "source": [
    "def report2(state_data):\n",
    "    print(\"Population            State\")\n",
    "    for i in range(0,len(state_data)):\n",
    "        print(state_data[i][1],\"            \",state_data[i][0])"
   ]
  },
  {
   "cell_type": "code",
   "execution_count": 34,
   "metadata": {
    "collapsed": false
   },
   "outputs": [
    {
     "name": "stdout",
     "output_type": "stream",
     "text": [
      "Population            State\n",
      "6692824              Massachusetts\n",
      "3596080              Connecticut\n",
      "1328302              Maine\n",
      "1323459              New Hampshire\n",
      "1051511              Rhode Island\n",
      "626630              Vermont\n"
     ]
    }
   ],
   "source": [
    "report2(NewEngland)"
   ]
  },
  {
   "cell_type": "markdown",
   "metadata": {},
   "source": [
    "#### Exercise 18\n",
    "\n",
    "Find the sum of the populations of the New England states. Print\n",
    "out how many there are. Use a basic loop design pattern.\n"
   ]
  },
  {
   "cell_type": "code",
   "execution_count": 36,
   "metadata": {
    "collapsed": false
   },
   "outputs": [],
   "source": [
    "def population(state_data):\n",
    "    sum_ = 0\n",
    "    num_states = len(state_data)\n",
    "    for i in range(0,num_states):\n",
    "        one_state = state_data[i]\n",
    "        pop = one_state[1]\n",
    "        sum_ = sum_ + pop\n",
    "    print(\"The total population of this list of states is\",sum_)\n",
    "    print(\"There are\",num_states,\"states in this list of states.\")"
   ]
  },
  {
   "cell_type": "code",
   "execution_count": 37,
   "metadata": {
    "collapsed": false
   },
   "outputs": [
    {
     "name": "stdout",
     "output_type": "stream",
     "text": [
      "The total population of this list of states is 14618806\n",
      "There are 6 states in this list of states.\n"
     ]
    }
   ],
   "source": [
    "population(NewEngland)"
   ]
  },
  {
   "cell_type": "markdown",
   "metadata": {},
   "source": [
    "Version using more syntactic sugar -- the variables have better and more \n",
    "meaningful names. This may read better in a bigger program. "
   ]
  },
  {
   "cell_type": "code",
   "execution_count": 38,
   "metadata": {
    "collapsed": true
   },
   "outputs": [],
   "source": [
    "def population1(state_data):\n",
    "    \"\"\" Sums state populations \"\"\"\n",
    "    population = 1\n",
    "    sum_ = 0\n",
    "    num_states  = len(state_data)\n",
    "    for state in range(0,num_states):\n",
    "        sum_ = sum_ + state_data[state][population]\n",
    "    print(\"The total population of this list of states is\",sum_)\n",
    "    print(\"There are\",num_states,\"states in this list of states.\")"
   ]
  },
  {
   "cell_type": "code",
   "execution_count": 39,
   "metadata": {
    "collapsed": false
   },
   "outputs": [
    {
     "name": "stdout",
     "output_type": "stream",
     "text": [
      "The total population of this list of states is 14618806\n",
      "There are 6 states in this list of states.\n"
     ]
    }
   ],
   "source": [
    "population1(NewEngland)"
   ]
  },
  {
   "cell_type": "markdown",
   "metadata": {},
   "source": [
    "#### Exercise 19\n",
    "\n",
    "Write a function 'average(nlis)' that uses a 'for' loop and 'range()' to sum up the numbers in nlis and divide by the length of nlis. Just to be sure that you have used all the numbers in nlis, print each one in your 'for' loop and print the length of the list. Do not use the variable numlis in your function! If you change to a different list will it work? For numlis, the output should look like:\n",
    "\n",
    "65 44 3 56 48 74 7 97 95 42 \n",
    "the average is 53.1"
   ]
  },
  {
   "cell_type": "code",
   "execution_count": 40,
   "metadata": {
    "collapsed": true
   },
   "outputs": [],
   "source": [
    "numlis = [65, 44, 3, 56, 48, 74, 7, 97, 95, 42]  # test on this list\n",
    "numlis2 = [4,6,8,12,2,7,19]     # test on a second list to be sure"
   ]
  },
  {
   "cell_type": "code",
   "execution_count": 41,
   "metadata": {
    "collapsed": true
   },
   "outputs": [],
   "source": [
    "def average(nlis):\n",
    "    sum_ = 0\n",
    "    for num in nlis:\n",
    "        sum_ = sum_ + num\n",
    "        print (num, end=\" \")\n",
    "    print()\n",
    "    print(\"the average is \", sum_/len(nlis))"
   ]
  },
  {
   "cell_type": "code",
   "execution_count": 42,
   "metadata": {
    "collapsed": false
   },
   "outputs": [
    {
     "name": "stdout",
     "output_type": "stream",
     "text": [
      "65 44 3 56 48 74 7 97 95 42 \n",
      "the average is  53.1\n"
     ]
    }
   ],
   "source": [
    "average(numlis)"
   ]
  },
  {
   "cell_type": "code",
   "execution_count": 54,
   "metadata": {
    "collapsed": false
   },
   "outputs": [
    {
     "name": "stdout",
     "output_type": "stream",
     "text": [
      "4 6 8 12 2 7 19 \n",
      "the average is  8.285714285714286\n"
     ]
    }
   ],
   "source": [
    "average(numlis2)"
   ]
  },
  {
   "cell_type": "markdown",
   "metadata": {},
   "source": [
    "#### Exercise 20\n",
    "\n",
    "The following example builds a sentence using various parts of speech.\n",
    "It randomly chooses words from a list by using random.choice(), a function\n",
    "or method imported from a library called random. We have used a method of the string data type to capitalize the first letter of the sentence."
   ]
  },
  {
   "cell_type": "code",
   "execution_count": 55,
   "metadata": {
    "collapsed": true
   },
   "outputs": [],
   "source": [
    "import random\n",
    "\n",
    "verbs=[\"goes\",\"cooks\",\"shoots\",\"faints\",\"chews\",\"screams\"]\n",
    "nouns=[\"bear\",\"lion\",\"mother\",\"baby\",\"sister\",\"car\",\"bicycle\",\"book\"]\n",
    "adverbs=[\"handily\",\"sweetly\",\"sourly\",\"gingerly\",\"forcefully\",\"meekly\"]\n",
    "articles=[\"a\",\"the\",\"that\",\"this\"]"
   ]
  },
  {
   "cell_type": "code",
   "execution_count": 58,
   "metadata": {
    "collapsed": false
   },
   "outputs": [],
   "source": [
    "def sentence():\n",
    "    article = random.choice(articles)    \n",
    "    noun = random.choice(nouns)\n",
    "    verb = random.choice(verbs)\n",
    "    adverb = random.choice(adverbs)\n",
    "    \n",
    "    our_sentence = article + \" \" + noun + \" \" + verb + \" \" + adverb + \".\"\n",
    "    our_sentence = our_sentence.capitalize()\n",
    "    \n",
    "    print(our_sentence)  "
   ]
  },
  {
   "cell_type": "code",
   "execution_count": 62,
   "metadata": {
    "collapsed": false
   },
   "outputs": [
    {
     "name": "stdout",
     "output_type": "stream",
     "text": [
      "That bicycle shoots handily.\n"
     ]
    }
   ],
   "source": [
    "sentence()"
   ]
  },
  {
   "cell_type": "code",
   "execution_count": 74,
   "metadata": {
    "collapsed": false
   },
   "outputs": [
    {
     "name": "stdout",
     "output_type": "stream",
     "text": [
      "0.24256473015515256\n"
     ]
    }
   ],
   "source": [
    "print(random.random())  "
   ]
  },
  {
   "cell_type": "code",
   "execution_count": 69,
   "metadata": {
    "collapsed": false
   },
   "outputs": [
    {
     "name": "stdout",
     "output_type": "stream",
     "text": [
      "89\n"
     ]
    }
   ],
   "source": [
    "print(random.randint(0,100))"
   ]
  },
  {
   "cell_type": "markdown",
   "metadata": {
    "collapsed": true
   },
   "source": [
    "#### Exercise 21\n",
    "\n",
    "Consider the following dictionary of US News and World Reports list of best\n",
    "affordable sportscars (ascars). Execute the line below so that you have the \n",
    "dictionary in your IPython console. Then answer (retrieve) the following.\n",
    "Press <esc> if you lock up on some step.\n",
    "\n",
    "a) Type ascars to display the dictionary\n",
    "\n",
    "b) Using the key retrieve the Nissan sportcar.\n",
    "\n",
    "b) Using the key retrieve the Chevy sportscar.\n",
    "\n",
    "c) Change the MINI Cooper car to a \"Coupe\". Display ascars to check that it\n",
    "worked.\n",
    "\n",
    "d) Write a small 2 line loop to display all the values and only the values.\n",
    "\n",
    "e) Write a small 2 line loop to display all the keys (and only the keys)."
   ]
  },
  {
   "cell_type": "code",
   "execution_count": 1,
   "metadata": {
    "collapsed": true
   },
   "outputs": [],
   "source": [
    "ascars = {\"Ford\" : \"Mustang\",\"Mazda\" : \"Miata\", \"Scion\" : \"FR-S\", \n",
    "\"Subaru\" : \"BRZ\",\"Dodge\" : \"Challenger\", \"Nissan\" : \"370Z\", \"Chevy\" : \"Camaro\", \n",
    "\"Hyundai\" : \"Genesis Coupe\" , \"MINI Cooper\" : \"Roadster\"}"
   ]
  },
  {
   "cell_type": "code",
   "execution_count": 3,
   "metadata": {
    "collapsed": false
   },
   "outputs": [
    {
     "data": {
      "text/plain": [
       "'370Z'"
      ]
     },
     "execution_count": 3,
     "metadata": {},
     "output_type": "execute_result"
    }
   ],
   "source": [
    "ascars[\"Nissan\"]"
   ]
  },
  {
   "cell_type": "code",
   "execution_count": 4,
   "metadata": {
    "collapsed": false
   },
   "outputs": [
    {
     "data": {
      "text/plain": [
       "'Camaro'"
      ]
     },
     "execution_count": 4,
     "metadata": {},
     "output_type": "execute_result"
    }
   ],
   "source": [
    "ascars[\"Chevy\"]"
   ]
  },
  {
   "cell_type": "code",
   "execution_count": 5,
   "metadata": {
    "collapsed": true
   },
   "outputs": [],
   "source": [
    "ascars[\"MINI Cooper\"]=\"Coupe\""
   ]
  },
  {
   "cell_type": "code",
   "execution_count": 6,
   "metadata": {
    "collapsed": false
   },
   "outputs": [
    {
     "data": {
      "text/plain": [
       "{'Chevy': 'Camaro',\n",
       " 'Dodge': 'Challenger',\n",
       " 'Ford': 'Mustang',\n",
       " 'Hyundai': 'Genesis Coupe',\n",
       " 'MINI Cooper': 'Coupe',\n",
       " 'Mazda': 'Miata',\n",
       " 'Nissan': '370Z',\n",
       " 'Scion': 'FR-S',\n",
       " 'Subaru': 'BRZ'}"
      ]
     },
     "execution_count": 6,
     "metadata": {},
     "output_type": "execute_result"
    }
   ],
   "source": [
    "ascars"
   ]
  },
  {
   "cell_type": "code",
   "execution_count": 10,
   "metadata": {
    "collapsed": false
   },
   "outputs": [
    {
     "name": "stdout",
     "output_type": "stream",
     "text": [
      "Mustang, Miata, FR-S, BRZ, Challenger, 370Z, Camaro, Genesis Coupe, Coupe, "
     ]
    }
   ],
   "source": [
    "for value in ascars.values():\n",
    "    print(value, end=\", \")"
   ]
  },
  {
   "cell_type": "code",
   "execution_count": 11,
   "metadata": {
    "collapsed": false
   },
   "outputs": [
    {
     "name": "stdout",
     "output_type": "stream",
     "text": [
      "Ford, Mazda, Scion, Subaru, Dodge, Nissan, Chevy, Hyundai, MINI Cooper, "
     ]
    }
   ],
   "source": [
    "for key in ascars.keys():\n",
    "    print(key,end=\", \")"
   ]
  },
  {
   "cell_type": "markdown",
   "metadata": {},
   "source": [
    "#### Exercise 22\n",
    "\n",
    "Example of reading from a CSV file and writing each row as a list."
   ]
  },
  {
   "cell_type": "code",
   "execution_count": 11,
   "metadata": {
    "collapsed": false
   },
   "outputs": [],
   "source": [
    "import csv\n",
    "\n",
    "def read_csv_file(filename):\n",
    "    f = open(filename)\n",
    "    for row in csv.reader(f):\n",
    "        print(row)\n",
    "    f.close()"
   ]
  },
  {
   "cell_type": "code",
   "execution_count": 17,
   "metadata": {
    "collapsed": false
   },
   "outputs": [
    {
     "name": "stdout",
     "output_type": "stream",
     "text": [
      "['Jerry Seinfeld', '(212) 344-3784']\n",
      "['George Costanza', '(212) 345-8485']\n",
      "['Elaine Benis', '(212) 843-2485']\n",
      "['George Constanza', '(212) 555-7689']\n"
     ]
    }
   ],
   "source": [
    "read_csv_file(\"myphones.csv\")"
   ]
  },
  {
   "cell_type": "code",
   "execution_count": 18,
   "metadata": {
    "collapsed": true
   },
   "outputs": [],
   "source": [
    "def read_csv_file1(filename):\n",
    "    \"\"\"Reads a CSV file and print it as a list of rows.\"\"\"\n",
    "    f = open(filename)\n",
    "    data = []\n",
    "    for row in csv.reader(f):\n",
    "        data.append(row)\n",
    "    print(data)   \n",
    "    f.close()"
   ]
  },
  {
   "cell_type": "code",
   "execution_count": 19,
   "metadata": {
    "collapsed": false
   },
   "outputs": [
    {
     "name": "stdout",
     "output_type": "stream",
     "text": [
      "[['Jerry Seinfeld', '(212) 344-3784'], ['George Costanza', '(212) 345-8485'], ['Elaine Benis', '(212) 843-2485'], ['George Constanza', '(212) 555-7689']]\n"
     ]
    }
   ],
   "source": [
    "read_csv_file1(\"myphones.csv\")"
   ]
  },
  {
   "cell_type": "code",
   "execution_count": 22,
   "metadata": {
    "collapsed": true
   },
   "outputs": [],
   "source": [
    "def read_csv_file2(filename):\n",
    "    \"\"\"Reads a CSV file and prints each row without list brackets. \"\"\"\n",
    "    f = open(filename)\n",
    "    for row in csv.reader(f):\n",
    "        print(row[0],\"    \",row[1])\n",
    "    f.close()"
   ]
  },
  {
   "cell_type": "code",
   "execution_count": 35,
   "metadata": {
    "collapsed": false
   },
   "outputs": [
    {
     "name": "stdout",
     "output_type": "stream",
     "text": [
      "Jerry Seinfeld      (212) 434-1234\n",
      "Elaine Benes      (212) 123-6543\n",
      "Allan Green      (212) 556-2233\n"
     ]
    }
   ],
   "source": [
    "read_csv_file2(\"myphones.csv\")"
   ]
  },
  {
   "cell_type": "markdown",
   "metadata": {},
   "source": [
    "#### Exercise 23\n",
    "\n",
    "This is a modification of write_csv(filename). Instead of getting the data\n",
    "from a list, we're going to input it from the keyboard. This new function\n",
    "name_phone(csv_filename) will put a friend's name and his/her phone number \n",
    "into a csv file. Here is a start. We are going to add features to the program \n",
    "so that each step is manageable and we don't get confused.\n",
    "\n",
    "1) Run this program and see that you can enter names and they'll print.\n",
    "   To exit, you enter a blank name (i.e., just press return or enter).\n",
    "   Note the loop runs forever, so we have to use 'break' to get out.\n",
    "   \n",
    "2) Add an input statement to collect a phone number and a line to print the\n",
    "   phone number. Carefully place these so that the program runs nicely; that \n",
    "   is, don't print anything until you have the phone number and don't get the\n",
    "   phone number until you know the user isn't quiting. \n",
    "   \n",
    "3) Now add writing to a CSV file. After each step you can try running the \n",
    "   function to make sure everything works. We're \"growing\" the program making\n",
    "   sure that we have a working program each step of the way. You can check\n",
    "   the work by double clicking on the created file and using Excel to peek into\n",
    "   it. In the following be careful to put the right statements inside the loop \n",
    "   and the others outside the loop.\n",
    "   \n",
    "   a) First add any necessary import statements.\n",
    "   \n",
    "   b) Add a line opening the csv file for writing and a line closing the file. \n",
    "   \n",
    "   c) As each line written to the CSV file must be a list, create an empty list\n",
    "      like this: line = []. Note this should be inside the loop. Why?\n",
    "      \n",
    "   d) append the name to line; append the phone to line\n",
    "   \n",
    "   e) write the line to the CSV file"
   ]
  },
  {
   "cell_type": "code",
   "execution_count": 27,
   "metadata": {
    "collapsed": true
   },
   "outputs": [],
   "source": [
    "def name_phone(csv_filename):\n",
    "    csvfile = open(csv_filename, \"w\", newline=\"\")\n",
    "    while True:\n",
    "        nextname = input(\"Enter a Name, press return to end: \")\n",
    "        if nextname ==\"\":\n",
    "            break\n",
    "        nextphone = input(\"Enter phone number: \")\n",
    "        print(nextname)\n",
    "        print(nextphone)\n",
    "        \n",
    "        line = []\n",
    "        line.append(nextname)\n",
    "        line.append(nextphone)\n",
    "        csv.writer(csvfile).writerow(line)\n",
    "        \n",
    "    csvfile.close()"
   ]
  },
  {
   "cell_type": "code",
   "execution_count": 36,
   "metadata": {
    "collapsed": false
   },
   "outputs": [
    {
     "name": "stdout",
     "output_type": "stream",
     "text": [
      "Enter a Name, press return to end: Sam Smith\n",
      "Enter phone number: 02 222-3453\n",
      "Sam Smith\n",
      "02 222-3453\n",
      "Enter a Name, press return to end: Paul Grant\n",
      "Enter phone number: 02 456-567\n",
      "Paul Grant\n",
      "02 456-567\n",
      "Enter a Name, press return to end: Anne Bale\n",
      "Enter phone number: 02 456-678\n",
      "Anne Bale\n",
      "02 456-678\n",
      "Enter a Name, press return to end: \n"
     ]
    }
   ],
   "source": [
    "name_phone(\"my_phones.csv\")"
   ]
  },
  {
   "cell_type": "code",
   "execution_count": 37,
   "metadata": {
    "collapsed": false
   },
   "outputs": [
    {
     "name": "stdout",
     "output_type": "stream",
     "text": [
      "Sam Smith      02 222-3453\n",
      "Paul Grant      02 456-567\n",
      "Anne Bale      02 456-678\n"
     ]
    }
   ],
   "source": [
    "read_csv_file2(\"my_phones.csv\")"
   ]
  },
  {
   "cell_type": "markdown",
   "metadata": {},
   "source": [
    "#### Exercise 23\n",
    "\n",
    "Updating a csv file\n",
    "\n",
    "Let us read a CSV file containing a person's daily weights and compute the \n",
    "average weight and write that into the csv file.\n",
    "Here we copy the old file to a new one and add an additional line that \n",
    "contains the average of all the weight values.  \n",
    "Note that the first row has a header so we skip it.\n",
    "Note also that the values are read in as strings and we must convert to float\n",
    "(i.e., read number) before using a number for arithmetic.\n",
    "Note that we are writing a new line at the end that contains the average.\n",
    "\n",
    "In developing this program, we could somehow open a file and not manage to\n",
    "close it. In which case, we may have to get out of Spyder to unlock the file.\n",
    "Using a new name for the new file (we're writing to it), can also fix the\n",
    "problem."
   ]
  },
  {
   "cell_type": "code",
   "execution_count": 38,
   "metadata": {
    "collapsed": true
   },
   "outputs": [],
   "source": [
    "def update_csv(old_name, new_name):\n",
    " \n",
    "    fin = open(old_name)\n",
    "    fout = open(new_name,'w',newline = '')\n",
    "    ct = 0\n",
    "    tot_weight = 0.0\n",
    "    for row in csv.reader(fin):\n",
    "        if row[0]!=\"Date\":\n",
    "            ct = ct + 1\n",
    "            tot_weight = tot_weight + float(row[1])\n",
    "        csv.writer(fout).writerow(row)\n",
    "    row = [\"Average\", tot_weight/ct]\n",
    "    csv.writer(fout).writerow(row)\n",
    "    fin.close()\n",
    "    fout.close()     "
   ]
  },
  {
   "cell_type": "code",
   "execution_count": 40,
   "metadata": {
    "collapsed": false
   },
   "outputs": [],
   "source": [
    "update_csv(\"weights.csv\",\"weights1.csv\")"
   ]
  },
  {
   "cell_type": "code",
   "execution_count": 42,
   "metadata": {
    "collapsed": false
   },
   "outputs": [
    {
     "name": "stdout",
     "output_type": "stream",
     "text": [
      "Date,Weight\n",
      "05/01/2016,142\n",
      "05/02/2016,143\n",
      "05/03/2016,140\n",
      "05/04/2016,141\n",
      "05/05/2016,142\n",
      "05/06/2016,141\n",
      "05/07/2016,143\n",
      "Average,141.7142857\n",
      "Average,141.7142857125\n"
     ]
    }
   ],
   "source": [
    "!type weights1.csv"
   ]
  },
  {
   "cell_type": "code",
   "execution_count": null,
   "metadata": {
    "collapsed": true
   },
   "outputs": [],
   "source": []
  }
 ],
 "metadata": {
  "kernelspec": {
   "display_name": "Python 3",
   "language": "python",
   "name": "python3"
  },
  "language_info": {
   "codemirror_mode": {
    "name": "ipython",
    "version": 3
   },
   "file_extension": ".py",
   "mimetype": "text/x-python",
   "name": "python",
   "nbconvert_exporter": "python",
   "pygments_lexer": "ipython3",
   "version": "3.6.3"
  }
 },
 "nbformat": 4,
 "nbformat_minor": 2
}
